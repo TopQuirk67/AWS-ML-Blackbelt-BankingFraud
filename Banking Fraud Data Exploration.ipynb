{
 "cells": [
  {
   "cell_type": "markdown",
   "metadata": {},
   "source": [
    "### The purpose of this notebook is to perform initial data explorations for the Banking Fraud Data set."
   ]
  },
  {
   "cell_type": "markdown",
   "metadata": {},
   "source": [
    "### Data Sample Specifications \n",
    "\n",
    "Data was taken from https://www.kaggle.com/giladmanor/fraud-detection \n",
    "\n",
    "This is a sample of 1 row with headers explanation:\n",
    "\n",
    "1,PAYMENT,1060.31,C429214117,1089.0,28.69,M1591654462,0.0,0.0,0,0\n",
    "\n",
    "step - maps a unit of time in the real world. In this case 1 step is 1 hour of time. Total steps 744 (30 days simulation).\n",
    "\n",
    "type - CASH-IN, CASH-OUT, DEBIT, PAYMENT and TRANSFER.\n",
    "\n",
    "amount -\n",
    "amount of the transaction in local currency.\n",
    "\n",
    "nameOrig - customer who started the transaction\n",
    "\n",
    "oldbalanceOrg - initial balance before the transaction\n",
    "\n",
    "newbalanceOrig - new balance after the transaction\n",
    "\n",
    "nameDest - customer who is the recipient of the transaction\n",
    "\n",
    "oldbalanceDest - initial balance recipient before the transaction. Note that there is not information for customers that start with M (Merchants).\n",
    "\n",
    "newbalanceDest - new balance recipient after the transaction. Note that there is not information for customers that start with M (Merchants).\n",
    "\n",
    "isFraud - This is the transactions made by the fraudulent agents inside the simulation. In this specific dataset the fraudulent behavior of the agents aims to profit by taking control or customers accounts and try to empty the funds by transferring to another account and then cashing out of the system.\n",
    "\n",
    "isFlaggedFraud - The business model aims to control massive transfers from one account to another and flags illegal attempts. An illegal attempt in this dataset is an attempt to transfer more than 200.000 in a single transaction."
   ]
  },
  {
   "cell_type": "code",
   "execution_count": 1,
   "metadata": {},
   "outputs": [],
   "source": [
    "import os\n",
    "import boto3\n",
    "import pandas as pd\n",
    "import numpy as np\n",
    "import sagemaker as sm\n",
    "from io import StringIO\n",
    "import matplotlib.pyplot as plt\n",
    "import seaborn as sns\n",
    "\n",
    "# aws_key = os.environ['AWS_ACCESS_KEY']\n",
    "# aws_secret = os.environ['AWS_SECRET_ACCESS_KEY']\n",
    "\n",
    "# role = sm.get_execution_role()\n",
    "# sm_session = sm.session.Session()\n",
    "\n",
    "bucket = '1s-gary'\n",
    "data_key = 'aiml-blackbelt-2021/rawdata/PS_20174392719_1491204439457_log.csv'\n"
   ]
  },
  {
   "cell_type": "code",
   "execution_count": 2,
   "metadata": {},
   "outputs": [],
   "source": [
    "s3_client = boto3.client('s3')\n",
    "csv_obj = s3_client.get_object(Bucket=bucket, Key=data_key)\n",
    "body = csv_obj['Body']\n",
    "csv_string = body.read().decode('utf-8')\n",
    "df = pd.read_csv(StringIO(csv_string))\n",
    "# create account deltas\n",
    "df['deltaOrig']=df['newbalanceOrig']-df['oldbalanceOrg']\n",
    "df['deltaDest']=df['newbalanceDest']-df['oldbalanceDest']\n",
    "# get lags; see analysis below\n",
    "df.loc[:,'amount_previous'] = df.amount.shift(1)\n",
    "# df.loc[:,'amount_next'] = df.amount.shift(-1)\n",
    "df.loc[:,'type_previous'] = df.type.shift(1)\n",
    "# df.loc[:,'type_next'] = df.type.shift(-1)\n",
    "\n",
    "\n",
    "# for our later explorations, we will just separate the fraud and non-fraud at the beginning.\n",
    "df_isfraud = df[df['isFraud']==1]\n",
    "df_isnotfraud = df[df['isFraud']==0]\n",
    "\n",
    "# # also read a small sample for quick and dirty exploration\n",
    "# csv_obj = s3_client.get_object(Bucket=bucket, Key=data_sample_key)\n",
    "# body = csv_obj['Body']\n",
    "# csv_string = body.read().decode('utf-8')\n",
    "# create account deltas\n",
    "df['deltaOrig']=df['newbalanceOrig']-df['oldbalanceOrg']\n",
    "df['deltaDest']=df['newbalanceDest']-df['oldbalanceDest']\n",
    "# This variable is explored below and increases F1 from 59% to 89%\n",
    "df['amount_deltaOrig'] = (df['amount'] == -1*df['deltaOrig']).astype(int)\n",
    "\n"
   ]
  },
  {
   "cell_type": "code",
   "execution_count": 3,
   "metadata": {},
   "outputs": [
    {
     "data": {
      "text/html": [
       "<div>\n",
       "<style scoped>\n",
       "    .dataframe tbody tr th:only-of-type {\n",
       "        vertical-align: middle;\n",
       "    }\n",
       "\n",
       "    .dataframe tbody tr th {\n",
       "        vertical-align: top;\n",
       "    }\n",
       "\n",
       "    .dataframe thead th {\n",
       "        text-align: right;\n",
       "    }\n",
       "</style>\n",
       "<table border=\"1\" class=\"dataframe\">\n",
       "  <thead>\n",
       "    <tr style=\"text-align: right;\">\n",
       "      <th></th>\n",
       "      <th>step</th>\n",
       "      <th>type</th>\n",
       "      <th>amount</th>\n",
       "      <th>nameOrig</th>\n",
       "      <th>oldbalanceOrg</th>\n",
       "      <th>newbalanceOrig</th>\n",
       "      <th>nameDest</th>\n",
       "      <th>oldbalanceDest</th>\n",
       "      <th>newbalanceDest</th>\n",
       "      <th>isFraud</th>\n",
       "      <th>isFlaggedFraud</th>\n",
       "      <th>deltaOrig</th>\n",
       "      <th>deltaDest</th>\n",
       "      <th>amount_previous</th>\n",
       "      <th>type_previous</th>\n",
       "      <th>amount_deltaOrig</th>\n",
       "    </tr>\n",
       "  </thead>\n",
       "  <tbody>\n",
       "    <tr>\n",
       "      <th>0</th>\n",
       "      <td>1</td>\n",
       "      <td>PAYMENT</td>\n",
       "      <td>9839.64</td>\n",
       "      <td>C1231006815</td>\n",
       "      <td>170136.00</td>\n",
       "      <td>160296.36</td>\n",
       "      <td>M1979787155</td>\n",
       "      <td>0.0</td>\n",
       "      <td>0.00</td>\n",
       "      <td>0</td>\n",
       "      <td>0</td>\n",
       "      <td>-9839.64</td>\n",
       "      <td>0.00</td>\n",
       "      <td>NaN</td>\n",
       "      <td>NaN</td>\n",
       "      <td>0</td>\n",
       "    </tr>\n",
       "    <tr>\n",
       "      <th>1</th>\n",
       "      <td>1</td>\n",
       "      <td>PAYMENT</td>\n",
       "      <td>1864.28</td>\n",
       "      <td>C1666544295</td>\n",
       "      <td>21249.00</td>\n",
       "      <td>19384.72</td>\n",
       "      <td>M2044282225</td>\n",
       "      <td>0.0</td>\n",
       "      <td>0.00</td>\n",
       "      <td>0</td>\n",
       "      <td>0</td>\n",
       "      <td>-1864.28</td>\n",
       "      <td>0.00</td>\n",
       "      <td>9839.64</td>\n",
       "      <td>PAYMENT</td>\n",
       "      <td>0</td>\n",
       "    </tr>\n",
       "    <tr>\n",
       "      <th>2</th>\n",
       "      <td>1</td>\n",
       "      <td>TRANSFER</td>\n",
       "      <td>181.00</td>\n",
       "      <td>C1305486145</td>\n",
       "      <td>181.00</td>\n",
       "      <td>0.00</td>\n",
       "      <td>C553264065</td>\n",
       "      <td>0.0</td>\n",
       "      <td>0.00</td>\n",
       "      <td>1</td>\n",
       "      <td>0</td>\n",
       "      <td>-181.00</td>\n",
       "      <td>0.00</td>\n",
       "      <td>1864.28</td>\n",
       "      <td>PAYMENT</td>\n",
       "      <td>1</td>\n",
       "    </tr>\n",
       "    <tr>\n",
       "      <th>3</th>\n",
       "      <td>1</td>\n",
       "      <td>CASH_OUT</td>\n",
       "      <td>181.00</td>\n",
       "      <td>C840083671</td>\n",
       "      <td>181.00</td>\n",
       "      <td>0.00</td>\n",
       "      <td>C38997010</td>\n",
       "      <td>21182.0</td>\n",
       "      <td>0.00</td>\n",
       "      <td>1</td>\n",
       "      <td>0</td>\n",
       "      <td>-181.00</td>\n",
       "      <td>-21182.00</td>\n",
       "      <td>181.00</td>\n",
       "      <td>TRANSFER</td>\n",
       "      <td>1</td>\n",
       "    </tr>\n",
       "    <tr>\n",
       "      <th>4</th>\n",
       "      <td>1</td>\n",
       "      <td>PAYMENT</td>\n",
       "      <td>11668.14</td>\n",
       "      <td>C2048537720</td>\n",
       "      <td>41554.00</td>\n",
       "      <td>29885.86</td>\n",
       "      <td>M1230701703</td>\n",
       "      <td>0.0</td>\n",
       "      <td>0.00</td>\n",
       "      <td>0</td>\n",
       "      <td>0</td>\n",
       "      <td>-11668.14</td>\n",
       "      <td>0.00</td>\n",
       "      <td>181.00</td>\n",
       "      <td>CASH_OUT</td>\n",
       "      <td>1</td>\n",
       "    </tr>\n",
       "    <tr>\n",
       "      <th>5</th>\n",
       "      <td>1</td>\n",
       "      <td>PAYMENT</td>\n",
       "      <td>7817.71</td>\n",
       "      <td>C90045638</td>\n",
       "      <td>53860.00</td>\n",
       "      <td>46042.29</td>\n",
       "      <td>M573487274</td>\n",
       "      <td>0.0</td>\n",
       "      <td>0.00</td>\n",
       "      <td>0</td>\n",
       "      <td>0</td>\n",
       "      <td>-7817.71</td>\n",
       "      <td>0.00</td>\n",
       "      <td>11668.14</td>\n",
       "      <td>PAYMENT</td>\n",
       "      <td>0</td>\n",
       "    </tr>\n",
       "    <tr>\n",
       "      <th>6</th>\n",
       "      <td>1</td>\n",
       "      <td>PAYMENT</td>\n",
       "      <td>7107.77</td>\n",
       "      <td>C154988899</td>\n",
       "      <td>183195.00</td>\n",
       "      <td>176087.23</td>\n",
       "      <td>M408069119</td>\n",
       "      <td>0.0</td>\n",
       "      <td>0.00</td>\n",
       "      <td>0</td>\n",
       "      <td>0</td>\n",
       "      <td>-7107.77</td>\n",
       "      <td>0.00</td>\n",
       "      <td>7817.71</td>\n",
       "      <td>PAYMENT</td>\n",
       "      <td>0</td>\n",
       "    </tr>\n",
       "    <tr>\n",
       "      <th>7</th>\n",
       "      <td>1</td>\n",
       "      <td>PAYMENT</td>\n",
       "      <td>7861.64</td>\n",
       "      <td>C1912850431</td>\n",
       "      <td>176087.23</td>\n",
       "      <td>168225.59</td>\n",
       "      <td>M633326333</td>\n",
       "      <td>0.0</td>\n",
       "      <td>0.00</td>\n",
       "      <td>0</td>\n",
       "      <td>0</td>\n",
       "      <td>-7861.64</td>\n",
       "      <td>0.00</td>\n",
       "      <td>7107.77</td>\n",
       "      <td>PAYMENT</td>\n",
       "      <td>0</td>\n",
       "    </tr>\n",
       "    <tr>\n",
       "      <th>8</th>\n",
       "      <td>1</td>\n",
       "      <td>PAYMENT</td>\n",
       "      <td>4024.36</td>\n",
       "      <td>C1265012928</td>\n",
       "      <td>2671.00</td>\n",
       "      <td>0.00</td>\n",
       "      <td>M1176932104</td>\n",
       "      <td>0.0</td>\n",
       "      <td>0.00</td>\n",
       "      <td>0</td>\n",
       "      <td>0</td>\n",
       "      <td>-2671.00</td>\n",
       "      <td>0.00</td>\n",
       "      <td>7861.64</td>\n",
       "      <td>PAYMENT</td>\n",
       "      <td>0</td>\n",
       "    </tr>\n",
       "    <tr>\n",
       "      <th>9</th>\n",
       "      <td>1</td>\n",
       "      <td>DEBIT</td>\n",
       "      <td>5337.77</td>\n",
       "      <td>C712410124</td>\n",
       "      <td>41720.00</td>\n",
       "      <td>36382.23</td>\n",
       "      <td>C195600860</td>\n",
       "      <td>41898.0</td>\n",
       "      <td>40348.79</td>\n",
       "      <td>0</td>\n",
       "      <td>0</td>\n",
       "      <td>-5337.77</td>\n",
       "      <td>-1549.21</td>\n",
       "      <td>4024.36</td>\n",
       "      <td>PAYMENT</td>\n",
       "      <td>0</td>\n",
       "    </tr>\n",
       "  </tbody>\n",
       "</table>\n",
       "</div>"
      ],
      "text/plain": [
       "   step      type    amount     nameOrig  oldbalanceOrg  newbalanceOrig  \\\n",
       "0     1   PAYMENT   9839.64  C1231006815      170136.00       160296.36   \n",
       "1     1   PAYMENT   1864.28  C1666544295       21249.00        19384.72   \n",
       "2     1  TRANSFER    181.00  C1305486145         181.00            0.00   \n",
       "3     1  CASH_OUT    181.00   C840083671         181.00            0.00   \n",
       "4     1   PAYMENT  11668.14  C2048537720       41554.00        29885.86   \n",
       "5     1   PAYMENT   7817.71    C90045638       53860.00        46042.29   \n",
       "6     1   PAYMENT   7107.77   C154988899      183195.00       176087.23   \n",
       "7     1   PAYMENT   7861.64  C1912850431      176087.23       168225.59   \n",
       "8     1   PAYMENT   4024.36  C1265012928        2671.00            0.00   \n",
       "9     1     DEBIT   5337.77   C712410124       41720.00        36382.23   \n",
       "\n",
       "      nameDest  oldbalanceDest  newbalanceDest  isFraud  isFlaggedFraud  \\\n",
       "0  M1979787155             0.0            0.00        0               0   \n",
       "1  M2044282225             0.0            0.00        0               0   \n",
       "2   C553264065             0.0            0.00        1               0   \n",
       "3    C38997010         21182.0            0.00        1               0   \n",
       "4  M1230701703             0.0            0.00        0               0   \n",
       "5   M573487274             0.0            0.00        0               0   \n",
       "6   M408069119             0.0            0.00        0               0   \n",
       "7   M633326333             0.0            0.00        0               0   \n",
       "8  M1176932104             0.0            0.00        0               0   \n",
       "9   C195600860         41898.0        40348.79        0               0   \n",
       "\n",
       "   deltaOrig  deltaDest  amount_previous type_previous  amount_deltaOrig  \n",
       "0   -9839.64       0.00              NaN           NaN                 0  \n",
       "1   -1864.28       0.00          9839.64       PAYMENT                 0  \n",
       "2    -181.00       0.00          1864.28       PAYMENT                 1  \n",
       "3    -181.00  -21182.00           181.00      TRANSFER                 1  \n",
       "4  -11668.14       0.00           181.00      CASH_OUT                 1  \n",
       "5   -7817.71       0.00         11668.14       PAYMENT                 0  \n",
       "6   -7107.77       0.00          7817.71       PAYMENT                 0  \n",
       "7   -7861.64       0.00          7107.77       PAYMENT                 0  \n",
       "8   -2671.00       0.00          7861.64       PAYMENT                 0  \n",
       "9   -5337.77   -1549.21          4024.36       PAYMENT                 0  "
      ]
     },
     "execution_count": 3,
     "metadata": {},
     "output_type": "execute_result"
    }
   ],
   "source": [
    "# s3loc = f's3://{bucket}/{data_key}'\n",
    "df.head(10)"
   ]
  },
  {
   "cell_type": "code",
   "execution_count": 4,
   "metadata": {},
   "outputs": [
    {
     "data": {
      "text/html": [
       "<div>\n",
       "<style scoped>\n",
       "    .dataframe tbody tr th:only-of-type {\n",
       "        vertical-align: middle;\n",
       "    }\n",
       "\n",
       "    .dataframe tbody tr th {\n",
       "        vertical-align: top;\n",
       "    }\n",
       "\n",
       "    .dataframe thead th {\n",
       "        text-align: right;\n",
       "    }\n",
       "</style>\n",
       "<table border=\"1\" class=\"dataframe\">\n",
       "  <thead>\n",
       "    <tr style=\"text-align: right;\">\n",
       "      <th></th>\n",
       "      <th>step</th>\n",
       "      <th>type</th>\n",
       "      <th>amount</th>\n",
       "      <th>nameOrig</th>\n",
       "      <th>oldbalanceOrg</th>\n",
       "      <th>newbalanceOrig</th>\n",
       "      <th>nameDest</th>\n",
       "      <th>oldbalanceDest</th>\n",
       "      <th>newbalanceDest</th>\n",
       "      <th>isFraud</th>\n",
       "      <th>isFlaggedFraud</th>\n",
       "      <th>deltaOrig</th>\n",
       "      <th>deltaDest</th>\n",
       "      <th>amount_previous</th>\n",
       "      <th>type_previous</th>\n",
       "    </tr>\n",
       "  </thead>\n",
       "  <tbody>\n",
       "    <tr>\n",
       "      <th>2</th>\n",
       "      <td>1</td>\n",
       "      <td>TRANSFER</td>\n",
       "      <td>181.00</td>\n",
       "      <td>C1305486145</td>\n",
       "      <td>181.00</td>\n",
       "      <td>0.0</td>\n",
       "      <td>C553264065</td>\n",
       "      <td>0.0</td>\n",
       "      <td>0.00</td>\n",
       "      <td>1</td>\n",
       "      <td>0</td>\n",
       "      <td>-181.00</td>\n",
       "      <td>0.00</td>\n",
       "      <td>1864.28</td>\n",
       "      <td>PAYMENT</td>\n",
       "    </tr>\n",
       "    <tr>\n",
       "      <th>3</th>\n",
       "      <td>1</td>\n",
       "      <td>CASH_OUT</td>\n",
       "      <td>181.00</td>\n",
       "      <td>C840083671</td>\n",
       "      <td>181.00</td>\n",
       "      <td>0.0</td>\n",
       "      <td>C38997010</td>\n",
       "      <td>21182.0</td>\n",
       "      <td>0.00</td>\n",
       "      <td>1</td>\n",
       "      <td>0</td>\n",
       "      <td>-181.00</td>\n",
       "      <td>-21182.00</td>\n",
       "      <td>181.00</td>\n",
       "      <td>TRANSFER</td>\n",
       "    </tr>\n",
       "    <tr>\n",
       "      <th>251</th>\n",
       "      <td>1</td>\n",
       "      <td>TRANSFER</td>\n",
       "      <td>2806.00</td>\n",
       "      <td>C1420196421</td>\n",
       "      <td>2806.00</td>\n",
       "      <td>0.0</td>\n",
       "      <td>C972765878</td>\n",
       "      <td>0.0</td>\n",
       "      <td>0.00</td>\n",
       "      <td>1</td>\n",
       "      <td>0</td>\n",
       "      <td>-2806.00</td>\n",
       "      <td>0.00</td>\n",
       "      <td>3823.08</td>\n",
       "      <td>PAYMENT</td>\n",
       "    </tr>\n",
       "    <tr>\n",
       "      <th>252</th>\n",
       "      <td>1</td>\n",
       "      <td>CASH_OUT</td>\n",
       "      <td>2806.00</td>\n",
       "      <td>C2101527076</td>\n",
       "      <td>2806.00</td>\n",
       "      <td>0.0</td>\n",
       "      <td>C1007251739</td>\n",
       "      <td>26202.0</td>\n",
       "      <td>0.00</td>\n",
       "      <td>1</td>\n",
       "      <td>0</td>\n",
       "      <td>-2806.00</td>\n",
       "      <td>-26202.00</td>\n",
       "      <td>2806.00</td>\n",
       "      <td>TRANSFER</td>\n",
       "    </tr>\n",
       "    <tr>\n",
       "      <th>680</th>\n",
       "      <td>1</td>\n",
       "      <td>TRANSFER</td>\n",
       "      <td>20128.00</td>\n",
       "      <td>C137533655</td>\n",
       "      <td>20128.00</td>\n",
       "      <td>0.0</td>\n",
       "      <td>C1848415041</td>\n",
       "      <td>0.0</td>\n",
       "      <td>0.00</td>\n",
       "      <td>1</td>\n",
       "      <td>0</td>\n",
       "      <td>-20128.00</td>\n",
       "      <td>0.00</td>\n",
       "      <td>6969.67</td>\n",
       "      <td>PAYMENT</td>\n",
       "    </tr>\n",
       "    <tr>\n",
       "      <th>681</th>\n",
       "      <td>1</td>\n",
       "      <td>CASH_OUT</td>\n",
       "      <td>20128.00</td>\n",
       "      <td>C1118430673</td>\n",
       "      <td>20128.00</td>\n",
       "      <td>0.0</td>\n",
       "      <td>C339924917</td>\n",
       "      <td>6268.0</td>\n",
       "      <td>12145.85</td>\n",
       "      <td>1</td>\n",
       "      <td>0</td>\n",
       "      <td>-20128.00</td>\n",
       "      <td>5877.85</td>\n",
       "      <td>20128.00</td>\n",
       "      <td>TRANSFER</td>\n",
       "    </tr>\n",
       "    <tr>\n",
       "      <th>724</th>\n",
       "      <td>1</td>\n",
       "      <td>CASH_OUT</td>\n",
       "      <td>416001.33</td>\n",
       "      <td>C749981943</td>\n",
       "      <td>0.00</td>\n",
       "      <td>0.0</td>\n",
       "      <td>C667346055</td>\n",
       "      <td>102.0</td>\n",
       "      <td>9291619.62</td>\n",
       "      <td>1</td>\n",
       "      <td>0</td>\n",
       "      <td>0.00</td>\n",
       "      <td>9291517.62</td>\n",
       "      <td>287265.38</td>\n",
       "      <td>CASH_OUT</td>\n",
       "    </tr>\n",
       "    <tr>\n",
       "      <th>969</th>\n",
       "      <td>1</td>\n",
       "      <td>TRANSFER</td>\n",
       "      <td>1277212.77</td>\n",
       "      <td>C1334405552</td>\n",
       "      <td>1277212.77</td>\n",
       "      <td>0.0</td>\n",
       "      <td>C431687661</td>\n",
       "      <td>0.0</td>\n",
       "      <td>0.00</td>\n",
       "      <td>1</td>\n",
       "      <td>0</td>\n",
       "      <td>-1277212.77</td>\n",
       "      <td>0.00</td>\n",
       "      <td>174068.82</td>\n",
       "      <td>CASH_OUT</td>\n",
       "    </tr>\n",
       "    <tr>\n",
       "      <th>970</th>\n",
       "      <td>1</td>\n",
       "      <td>CASH_OUT</td>\n",
       "      <td>1277212.77</td>\n",
       "      <td>C467632528</td>\n",
       "      <td>1277212.77</td>\n",
       "      <td>0.0</td>\n",
       "      <td>C716083600</td>\n",
       "      <td>0.0</td>\n",
       "      <td>2444985.19</td>\n",
       "      <td>1</td>\n",
       "      <td>0</td>\n",
       "      <td>-1277212.77</td>\n",
       "      <td>2444985.19</td>\n",
       "      <td>1277212.77</td>\n",
       "      <td>TRANSFER</td>\n",
       "    </tr>\n",
       "    <tr>\n",
       "      <th>1115</th>\n",
       "      <td>1</td>\n",
       "      <td>TRANSFER</td>\n",
       "      <td>35063.63</td>\n",
       "      <td>C1364127192</td>\n",
       "      <td>35063.63</td>\n",
       "      <td>0.0</td>\n",
       "      <td>C1136419747</td>\n",
       "      <td>0.0</td>\n",
       "      <td>0.00</td>\n",
       "      <td>1</td>\n",
       "      <td>0</td>\n",
       "      <td>-35063.63</td>\n",
       "      <td>0.00</td>\n",
       "      <td>8791.02</td>\n",
       "      <td>PAYMENT</td>\n",
       "    </tr>\n",
       "  </tbody>\n",
       "</table>\n",
       "</div>"
      ],
      "text/plain": [
       "      step      type      amount     nameOrig  oldbalanceOrg  newbalanceOrig  \\\n",
       "2        1  TRANSFER      181.00  C1305486145         181.00             0.0   \n",
       "3        1  CASH_OUT      181.00   C840083671         181.00             0.0   \n",
       "251      1  TRANSFER     2806.00  C1420196421        2806.00             0.0   \n",
       "252      1  CASH_OUT     2806.00  C2101527076        2806.00             0.0   \n",
       "680      1  TRANSFER    20128.00   C137533655       20128.00             0.0   \n",
       "681      1  CASH_OUT    20128.00  C1118430673       20128.00             0.0   \n",
       "724      1  CASH_OUT   416001.33   C749981943           0.00             0.0   \n",
       "969      1  TRANSFER  1277212.77  C1334405552     1277212.77             0.0   \n",
       "970      1  CASH_OUT  1277212.77   C467632528     1277212.77             0.0   \n",
       "1115     1  TRANSFER    35063.63  C1364127192       35063.63             0.0   \n",
       "\n",
       "         nameDest  oldbalanceDest  newbalanceDest  isFraud  isFlaggedFraud  \\\n",
       "2      C553264065             0.0            0.00        1               0   \n",
       "3       C38997010         21182.0            0.00        1               0   \n",
       "251    C972765878             0.0            0.00        1               0   \n",
       "252   C1007251739         26202.0            0.00        1               0   \n",
       "680   C1848415041             0.0            0.00        1               0   \n",
       "681    C339924917          6268.0        12145.85        1               0   \n",
       "724    C667346055           102.0      9291619.62        1               0   \n",
       "969    C431687661             0.0            0.00        1               0   \n",
       "970    C716083600             0.0      2444985.19        1               0   \n",
       "1115  C1136419747             0.0            0.00        1               0   \n",
       "\n",
       "       deltaOrig   deltaDest  amount_previous type_previous  \n",
       "2        -181.00        0.00          1864.28       PAYMENT  \n",
       "3        -181.00   -21182.00           181.00      TRANSFER  \n",
       "251     -2806.00        0.00          3823.08       PAYMENT  \n",
       "252     -2806.00   -26202.00          2806.00      TRANSFER  \n",
       "680    -20128.00        0.00          6969.67       PAYMENT  \n",
       "681    -20128.00     5877.85         20128.00      TRANSFER  \n",
       "724         0.00  9291517.62        287265.38      CASH_OUT  \n",
       "969  -1277212.77        0.00        174068.82      CASH_OUT  \n",
       "970  -1277212.77  2444985.19       1277212.77      TRANSFER  \n",
       "1115   -35063.63        0.00          8791.02       PAYMENT  "
      ]
     },
     "execution_count": 4,
     "metadata": {},
     "output_type": "execute_result"
    }
   ],
   "source": [
    "df_isfraud.head(10)"
   ]
  },
  {
   "cell_type": "markdown",
   "metadata": {},
   "source": [
    "Conclusion: it pays to look at your data.\n",
    "\n",
    "In a number of these rows we see that there is a signal for fraud where there is a matched CASH_OUT immediately following a TRANSFER of the same amount and same oldbalanceOrg with a 0 for newbalanceOrig and 0's for oldbalanceDest & newbalanceDest on the TRANSFER. (BTW I think it's fair to do a look-ahead for fraud as these are paired immediately in the data... if they were time-separated then it wouldn't really be fair to try and amount-match the TRANSFER because the corresponding CASH_OUT occurs in the future.  But here it seems to be the immediate future. )\n",
    "\n",
    "Just for fun, let's do a confusion matrix on this signal. By creating a heuristic from simple eyeballed patterns in the data. \n",
    "\n"
   ]
  },
  {
   "cell_type": "code",
   "execution_count": 5,
   "metadata": {},
   "outputs": [],
   "source": [
    "# def predict_fraud(df):\n",
    "#     if ((df['type']=='TRANSFER') and (df['amount']==1e7) and (df['oldbalanceDest']==0) and (df['newbalanceDest']==0)):\n",
    "#         return(1)\n",
    "#     elif (df['type']=='TRANSFER') and (df['type_next']=='CASH_OUT'):\n",
    "#         if (df['amount']==1e7):\n",
    "#             if (df['deltaOrig']==-1e7) and (df['amount_next']==df['amount']) and \\\n",
    "#                 (df['oldbalanceDest']==0) and (df['newbalanceDest']==0):\n",
    "#                     return(1)\n",
    "#             else:\n",
    "#                 return(0)\n",
    "#         else:\n",
    "#             if (df['oldbalanceOrg']==df['amount']) and (df['newbalanceOrig']==0) and \\\n",
    "#                 (df['oldbalanceDest']==0) and (df['newbalanceDest']==0) and \\\n",
    "#                 (df['amount']==df['amount_next']):\n",
    "#                 return(1)\n",
    "#             else:\n",
    "#                 return(0)\n",
    "#     elif (df['type']=='CASH_OUT') and (df['type_previous']=='TRANSFER'):\n",
    "#         if (df['amount']==1e7):\n",
    "#             if (df['deltaOrig']==-1e7) and (df['amount_previous']==df['amount']) and \\\n",
    "#                 (df['oldbalanceOrg']==df['amount']) and (df['newbalanceOrig']==0):\n",
    "#                     return(1)\n",
    "#             else:\n",
    "#                 return(0)\n",
    "#         else:\n",
    "#             if (df['oldbalanceOrg']==df['amount']) and (df['newbalanceOrig']==0) and \\\n",
    "#                 (df['amount']==df['amount_previous']) and \\\n",
    "#                 (df['deltaOrig']==(-df['amount'])):\n",
    "#                 return(1)\n",
    "#     else:\n",
    "#         return(0)\n",
    "\n",
    "#     Lookback only:\n",
    "def predict_fraud(df):\n",
    "    if ((df['type']=='TRANSFER') and (df['amount']==1e7) and (df['oldbalanceDest']==0) and (df['newbalanceDest']==0)):\n",
    "        return(1)\n",
    "    elif (df['type']=='TRANSFER'):\n",
    "        if not (df['amount']==1e7):\n",
    "            if (df['oldbalanceOrg']==df['amount']) and (df['newbalanceOrig']==0) and \\\n",
    "                (df['oldbalanceDest']==0) and (df['newbalanceDest']==0):\n",
    "                return(1)\n",
    "            else:\n",
    "                return(0)\n",
    "    elif (df['type']=='CASH_OUT') and (df['type_previous']=='TRANSFER'):\n",
    "        if (df['amount']==1e7):\n",
    "            if (df['deltaOrig']==-1e7) and (df['amount_previous']==df['amount']) and \\\n",
    "                (df['oldbalanceOrg']==df['amount']) and (df['newbalanceOrig']==0):\n",
    "                    return(1)\n",
    "            else:\n",
    "                return(0)\n",
    "        else:\n",
    "            if (df['oldbalanceOrg']==df['amount']) and (df['newbalanceOrig']==0) and \\\n",
    "                (df['amount']==df['amount_previous']) and \\\n",
    "                (df['deltaOrig']==(-df['amount'])):\n",
    "                return(1)\n",
    "    else:\n",
    "        return(0)\n"
   ]
  },
  {
   "cell_type": "code",
   "execution_count": 6,
   "metadata": {},
   "outputs": [],
   "source": [
    "# Features for heuristic\n",
    "df['fraud_prediction']=df.apply(predict_fraud,axis=1)\n",
    "# df['fraud_prediction_nolook']=df.apply(predict_fraud_nolookahead,axis=1)"
   ]
  },
  {
   "cell_type": "code",
   "execution_count": 7,
   "metadata": {},
   "outputs": [
    {
     "data": {
      "text/html": [
       "<div>\n",
       "<style scoped>\n",
       "    .dataframe tbody tr th:only-of-type {\n",
       "        vertical-align: middle;\n",
       "    }\n",
       "\n",
       "    .dataframe tbody tr th {\n",
       "        vertical-align: top;\n",
       "    }\n",
       "\n",
       "    .dataframe thead th {\n",
       "        text-align: right;\n",
       "    }\n",
       "</style>\n",
       "<table border=\"1\" class=\"dataframe\">\n",
       "  <thead>\n",
       "    <tr style=\"text-align: right;\">\n",
       "      <th>isFraud</th>\n",
       "      <th>0</th>\n",
       "      <th>1</th>\n",
       "    </tr>\n",
       "    <tr>\n",
       "      <th>fraud_prediction</th>\n",
       "      <th></th>\n",
       "      <th></th>\n",
       "    </tr>\n",
       "  </thead>\n",
       "  <tbody>\n",
       "    <tr>\n",
       "      <th>0.0</th>\n",
       "      <td>6248163</td>\n",
       "      <td>66</td>\n",
       "    </tr>\n",
       "    <tr>\n",
       "      <th>1.0</th>\n",
       "      <td>0</td>\n",
       "      <td>8130</td>\n",
       "    </tr>\n",
       "  </tbody>\n",
       "</table>\n",
       "</div>"
      ],
      "text/plain": [
       "isFraud                 0     1\n",
       "fraud_prediction               \n",
       "0.0               6248163    66\n",
       "1.0                     0  8130"
      ]
     },
     "execution_count": 7,
     "metadata": {},
     "output_type": "execute_result"
    }
   ],
   "source": [
    "contingency_matrix = pd.crosstab(df['fraud_prediction'], df['isFraud'])\n",
    "contingency_matrix"
   ]
  },
  {
   "cell_type": "code",
   "execution_count": 8,
   "metadata": {},
   "outputs": [
    {
     "data": {
      "text/plain": [
       "(0.9959573686144799, 2.5368306532800873e-05)"
      ]
     },
     "execution_count": 8,
     "metadata": {},
     "output_type": "execute_result"
    }
   ],
   "source": [
    "def f1_score(contingency_matrix):\n",
    "    if not contingency_matrix.shape==(2,2):\n",
    "        print('F1 error')\n",
    "    else:\n",
    "        (TN,FP,FN,TP) = (contingency_matrix[0][0],contingency_matrix[0][1],contingency_matrix[1][0],contingency_matrix[1][1])\n",
    "#        print(TN,FN,FP,TP)\n",
    "        F1 = 2*TP / (2*TP + FP + FN)\n",
    "# not quite sure what the uncertainty is but let's approximate it using the estimate here:\n",
    "# https://stats.stackexchange.com/questions/363382/confidence-interval-of-precision-recall-and-f1-score\n",
    "        sig_F1 = np.sqrt((F1)*(1-F1)/(4+TN+FP+FN+TP))\n",
    "        return(F1,sig_F1)\n",
    "f1_score(contingency_matrix)    \n"
   ]
  },
  {
   "cell_type": "markdown",
   "metadata": {},
   "source": [
    "Conclusion: this heuristic is quite good with f1 score of 99.6%\n",
    "\n",
    "\n"
   ]
  },
  {
   "cell_type": "markdown",
   "metadata": {},
   "source": [
    "### Philosophy of this dataset\n",
    "\n",
    "A number of great explorations of the dataset have been performed, and since my focus is on creating an AutoML / MLOps exploration, I will give most of that data exploration short shrift so that I can start the data engineering.  We look at just a few items:\n",
    "\n",
    "- dealing with nameOrig and nameDest: if there are enough transactions that history might help us we might retain them; this turns out not to be the case, so we will drop both nameOrig and nameDest\n",
    "- The dataset is well behaved (no missing data, etc.) with the exception of matching the transaction amounts to the changes in balance\n",
    "- We will leave the data much as it is\n",
    "- isFlaggedFraud is not useful and so is dropped; it just flags any transaction over 200 which does not follow business logic."
   ]
  },
  {
   "cell_type": "code",
   "execution_count": 9,
   "metadata": {},
   "outputs": [
    {
     "name": "stdout",
     "output_type": "stream",
     "text": [
      "The shape of the data is (6362620, 17)\n",
      "the number of rows with NaN is 106262\n"
     ]
    }
   ],
   "source": [
    "# simple data quality checks\n",
    "def quality_checks(df):\n",
    "    print(f'The shape of the data is {df.shape}')\n",
    "    print(f'the number of rows with NaN is {sum(df.isna().any(axis=1))}')\n",
    "\n",
    "quality_checks(df)\n"
   ]
  },
  {
   "cell_type": "markdown",
   "metadata": {},
   "source": [
    "Conclusion: no need to dropna"
   ]
  },
  {
   "cell_type": "markdown",
   "metadata": {},
   "source": [
    "### nameOrig\n",
    "\n",
    "Run through full dataset and subsample by nameOrig for exploratory work.\n",
    "\n",
    "Our first thesis is that individual users may be prone to fraudulent transactions or whether the transaction history of individuals\n",
    "will help us create a better model.  If that's the case, then we would need to randomize by user for test / train splitting.\n",
    "\n",
    "To this end, we start by exploring nameOrig."
   ]
  },
  {
   "cell_type": "code",
   "execution_count": 10,
   "metadata": {},
   "outputs": [
    {
     "name": "stdout",
     "output_type": "stream",
     "text": [
      "Number of unique nameOrig:                 6353307\n",
      "Number of unique nameOrig tagged fraud:    8213\n",
      "Number of unique nameOrig tagged notfraud: 6345122\n",
      "Number of unique nameDest:                 2722362\n",
      "Number of unique nameDest tagged fraud:    8169 \n",
      "Number of unique nameDest tagged notfraud: 2719685\n"
     ]
    }
   ],
   "source": [
    "print(f'Number of unique nameOrig:                 {len(df.nameOrig.unique())}')\n",
    "print(f'Number of unique nameOrig tagged fraud:    {len(df_isfraud.nameOrig.unique())}')\n",
    "print(f'Number of unique nameOrig tagged notfraud: {len(df_isnotfraud.nameOrig.unique())}')\n",
    "print(f'Number of unique nameDest:                 {len(df.nameDest.unique())}')\n",
    "print(f'Number of unique nameDest tagged fraud:    {len(df_isfraud.nameDest.unique())} ')\n",
    "print(f'Number of unique nameDest tagged notfraud: {len(df_isnotfraud.nameDest.unique())}')\n"
   ]
  },
  {
   "cell_type": "markdown",
   "metadata": {},
   "source": [
    "Conclusion: fraud does not appear to be concentrated in specific groups of nameOrig or nameDest, so drop these columns along with isFlaggedFraud"
   ]
  },
  {
   "cell_type": "code",
   "execution_count": 11,
   "metadata": {},
   "outputs": [
    {
     "name": "stderr",
     "output_type": "stream",
     "text": [
      "/opt/conda/lib/python3.7/site-packages/pandas/core/frame.py:3997: SettingWithCopyWarning: \n",
      "A value is trying to be set on a copy of a slice from a DataFrame\n",
      "\n",
      "See the caveats in the documentation: https://pandas.pydata.org/pandas-docs/stable/user_guide/indexing.html#returning-a-view-versus-a-copy\n",
      "  errors=errors,\n"
     ]
    }
   ],
   "source": [
    "df.drop(['nameOrig','nameDest','isFlaggedFraud'],axis=1,inplace=True)\n",
    "df_isfraud.drop(['nameOrig','nameDest','isFlaggedFraud'],axis=1,inplace=True)\n",
    "df_isnotfraud.drop(['nameOrig','nameDest','isFlaggedFraud'],axis=1,inplace=True)\n"
   ]
  },
  {
   "cell_type": "code",
   "execution_count": 12,
   "metadata": {},
   "outputs": [],
   "source": [
    "# keep this code here in case I need it in the future.  These group-by's were prohibitively slow, so I replaced them with the quick analysis in the cell above.\n",
    "# gb = df.groupby('nameOrig')\n",
    "\n",
    "# print(f'Maximum number of entries for a single nameOrig: {max(gb.count()[\"step\"])}')\n",
    "# print('Conclusion: the maximum number of repeated transactions is small')\n",
    "\n",
    "# df1 = df.groupby('nameOrig').filter(lambda s: s.step.count()>=2)\n",
    "\n",
    "# if sum(df1.isFraud)==0:\n",
    "#     print(f'None of the repeated {len(df1.nameOrig.unique())} nameOrig\\'s result in fraud so we conclude that names will not help us identify positive cases of fraud  ')\n",
    "# else:\n",
    "#     print('check fraud in repeated nameOrig')\n",
    "\n",
    "# df1 = df.groupby('nameDest').filter(lambda s: s.step.count()>=2)\n",
    "\n",
    "# if sum(df1.isFraud)==0:\n",
    "#     print(f'None of the repeated {len(df1.nameDest.unique())} nameOrig\\'s result in fraud so we conclude that names will not help us identify positive cases of fraud  ')\n",
    "# else:\n",
    "#     print('check fraud in repeated nameDest')"
   ]
  },
  {
   "cell_type": "markdown",
   "metadata": {},
   "source": [
    "### isFraud\n",
    "\n",
    "Simple exploration for what is and is not fraud in the full data set."
   ]
  },
  {
   "cell_type": "code",
   "execution_count": 13,
   "metadata": {},
   "outputs": [
    {
     "name": "stdout",
     "output_type": "stream",
     "text": [
      "CASH_OUT    4116\n",
      "TRANSFER    4097\n",
      "Name: type, dtype: int64\n",
      "CASH_OUT    2233384\n",
      "PAYMENT     2151495\n",
      "CASH_IN     1399284\n",
      "TRANSFER     528812\n",
      "DEBIT         41432\n",
      "Name: type, dtype: int64\n"
     ]
    }
   ],
   "source": [
    "print(df_isfraud.type.value_counts())\n",
    "print(df_isnotfraud.type.value_counts())\n"
   ]
  },
  {
   "cell_type": "markdown",
   "metadata": {},
   "source": [
    "Fraud is only in the CASH_OUT and TRANSFER types while non-fraud is in all types.\n",
    "\n",
    "For later data poisoning, we might consider using these other types for fraud also."
   ]
  },
  {
   "cell_type": "markdown",
   "metadata": {},
   "source": [
    "There is a big spike in fraud at the maximum value (10000000.00):"
   ]
  },
  {
   "cell_type": "code",
   "execution_count": 14,
   "metadata": {},
   "outputs": [
    {
     "name": "stdout",
     "output_type": "stream",
     "text": [
      "The fraction of fraud    at the max amount is: 0.002912050002029303\n",
      "The fraction of nonfraud at the max amount is: 3.8293633588993175e-05\n"
     ]
    }
   ],
   "source": [
    "print(f'The fraction of fraud    at the max amount is: {df_isfraud.amount.value_counts()[10000000.00]/df_isfraud.size}')\n",
    "print(f'The fraction of nonfraud at the max amount is: {df_isnotfraud.amount.value_counts()[10000000.00]/df_isnotfraud.size}')"
   ]
  },
  {
   "cell_type": "markdown",
   "metadata": {},
   "source": [
    "## Data Poisoning\n",
    "\n",
    "We're going to do a little experiment with this data in order to provide a test environment for MLOps.  We will split the data into NGROUPS (I'm going to start with 3) of data by date of transaction.  We will then massage the data in one or more of those groups to create an alternate reality - one where fraud is suddenly associated with specific features different from those in the original model.  We can then supply this poisoned data to our MLOps pipeline to ensure that it triggers retraining when it encounters this concept drift.\n",
    "\n",
    "Since we have an effective heuristic model, we can first see if the data is segmented into temporal portions where that model becomes less effective - i.e. is there already model drift in the data, in which case we don't have to produce it.\n"
   ]
  },
  {
   "cell_type": "code",
   "execution_count": 15,
   "metadata": {},
   "outputs": [
    {
     "name": "stdout",
     "output_type": "stream",
     "text": [
      "--------------------------------------------------------------------------------\n",
      "step range 1.0 to 239.0 f1 = (0.9900990099009901, 5.592540102318923e-05)\n",
      "step range 240.0 to 743.0 f1 = (0.9988152738540053, 1.9468374842797847e-05)\n",
      "--------------------------------------------------------------------------------\n",
      "step range 1.0 to 183.0 f1 = (0.988824101068999, 7.255254325116888e-05)\n",
      "step range 184.0 to 306.0 f1 = (0.9963369963369964, 4.176324735270502e-05)\n",
      "step range 307.0 to 743.0 f1 = (0.9989451476793249, 2.2592148064433652e-05)\n",
      "--------------------------------------------------------------------------------\n",
      "step range 1.0 to 156.0 f1 = (0.987485779294653, 8.812778613231313e-05)\n",
      "step range 157.0 to 239.0 f1 = (0.995100707675558, 5.6207721656855644e-05)\n",
      "step range 240.0 to 335.0 f1 = (0.9985583853916387, 3.0304287724752508e-05)\n",
      "step range 336.0 to 743.0 f1 = (0.9988753936122358, 2.688144467416749e-05)\n",
      "--------------------------------------------------------------------------------\n",
      "step range 1.0 to 135.0 f1 = (0.9858970154148902, 0.00010458106871556493)\n",
      "step range 136.0 to 206.0 f1 = (0.9960369881109643, 5.608938070096919e-05)\n",
      "step range 207.0 to 281.0 f1 = (0.9960204661739624, 5.6712499919116136e-05)\n",
      "step range 282.0 to 355.0 f1 = (1.0, 0.0)\n",
      "step range 356.0 to 743.0 f1 = (0.9988185255198487, 3.099514660334042e-05)\n",
      "--------------------------------------------------------------------------------\n",
      "step range 1.0 to 119.0 f1 = (0.9846827133479212, 0.00011994890395874862)\n",
      "step range 120.0 to 183.0 f1 = (0.9970887918486172, 5.255084081794406e-05)\n",
      "step range 184.0 to 239.0 f1 = (0.994341147938561, 7.373695521613219e-05)\n",
      "step range 240.0 to 306.0 f1 = (0.9979906229068989, 4.354519240108535e-05)\n",
      "step range 307.0 to 373.0 f1 = (1.0, 0.0)\n",
      "step range 374.0 to 743.0 f1 = (0.9987593052109182, 3.467571418707345e-05)\n",
      "--------------------------------------------------------------------------------\n",
      "step range 1.0 to 43.0 f1 = (0.9582059123343527, 0.00020755365281918618)\n",
      "step range 44.0 to 163.0 f1 = (0.9985283296541575, 4.0627966276566433e-05)\n",
      "step range 164.0 to 212.0 f1 = (0.9952335557673975, 7.281861318583141e-05)\n",
      "step range 213.0 to 274.0 f1 = (0.9971711456859972, 5.7129298457263225e-05)\n",
      "step range 275.0 to 326.0 f1 = (0.99822695035461, 4.451958078329608e-05)\n",
      "step range 327.0 to 379.0 f1 = (1.0, 0.0)\n",
      "step range 380.0 to 743.0 f1 = (0.9987411883182276, 3.817525948726676e-05)\n",
      "--------------------------------------------------------------------------------\n",
      "step range 1.0 to 40.0 f1 = (0.9569060773480663, 0.0002257524358233366)\n",
      "step range 41.0 to 156.0 f1 = (0.9980850248946763, 4.943774206921545e-05)\n",
      "step range 157.0 to 201.0 f1 = (0.9958333333333333, 7.342956924750714e-05)\n",
      "step range 202.0 to 239.0 f1 = (0.9942987457240593, 8.560168886087542e-05)\n",
      "step range 240.0 to 297.0 f1 = (0.9977628635346756, 5.3415377477487266e-05)\n",
      "step range 298.0 to 335.0 f1 = (1.0, 0.0)\n",
      "step range 336.0 to 393.0 f1 = (0.9992144540455616, 3.1559872083587663e-05)\n",
      "step range 394.0 to 743.0 f1 = (0.9988187426171413, 3.923372375959892e-05)\n",
      "--------------------------------------------------------------------------------\n",
      "step range 1.0 to 37.0 f1 = (0.9550425273390036, 0.00024391193106280596)\n",
      "step range 38.0 to 139.0 f1 = (0.9973753280839895, 6.171043160532729e-05)\n",
      "step range 140.0 to 183.0 f1 = (0.997020854021847, 6.559630720003181e-05)\n",
      "step range 184.0 to 226.0 f1 = (0.9956140350877193, 7.892603971533632e-05)\n",
      "step range 227.0 to 259.0 f1 = (0.994579945799458, 8.911774384753303e-05)\n",
      "step range 260.0 to 306.0 f1 = (0.9981481481481481, 5.092675738997737e-05)\n",
      "step range 307.0 to 351.0 f1 = (1.0, 0.0)\n",
      "step range 352.0 to 396.0 f1 = (0.9989847715736041, 3.843118742496555e-05)\n",
      "step range 397.0 to 743.0 f1 = (0.9988106250825954, 4.172840056113549e-05)\n",
      "--------------------------------------------------------------------------------\n",
      "step range 1.0 to 35.0 f1 = (0.9553805774278216, 0.0002562194484868416)\n",
      "step range 36.0 to 135.0 f1 = (0.9960647135986008, 7.938954112678941e-05)\n",
      "step range 136.0 to 166.0 f1 = (0.997134670487106, 6.812603694738076e-05)\n",
      "step range 167.0 to 206.0 f1 = (0.9950980392156863, 8.736432429842633e-05)\n",
      "step range 207.0 to 239.0 f1 = (0.9949367088607595, 9.100051419578888e-05)\n",
      "step range 240.0 to 281.0 f1 = (0.9969040247678018, 7.03261372083231e-05)\n",
      "step range 282.0 to 323.0 f1 = (1.0, 0.0)\n",
      "step range 324.0 to 355.0 f1 = (1.0, 0.0)\n",
      "step range 356.0 to 399.0 f1 = (0.998992950654582, 3.99064951392378e-05)\n",
      "step range 400.0 to 743.0 f1 = (0.9987953419890242, 4.490714169779419e-05)\n"
     ]
    }
   ],
   "source": [
    "for ngroups in range(2,11):\n",
    "    percentiles = 100*(np.append(np.arange(0.,1.0, 1.0/ngroups),1.0))\n",
    "    step_values = np.percentile(df.step,percentiles)\n",
    "    step_values[0] = 0\n",
    "    print(80*'-')\n",
    "    for step in range(len(step_values)-1):\n",
    "        contingency_matrix = pd.crosstab(\\\n",
    "                                 df[df['step'].between(step_values[step]+1,step_values[step+1])].fraud_prediction,\n",
    "                                 df[df['step'].between(step_values[step]+1,step_values[step+1])].isFraud)\n",
    "        print(f'step range {step_values[step]+1} to {step_values[step+1]} f1 = {f1_score(contingency_matrix)}')\n"
   ]
  },
  {
   "cell_type": "markdown",
   "metadata": {},
   "source": [
    "Conclusion: the f1 score for the heuristic model seems a tiny bit lower at the beginning of the data, but is rather stable after that.\n",
    "\n",
    "Sounds like I'll need to poison my data!"
   ]
  },
  {
   "cell_type": "code",
   "execution_count": 16,
   "metadata": {},
   "outputs": [],
   "source": [
    "SUBSAMPLE=0.1\n",
    "df_plot_subsample = df.sample(frac = SUBSAMPLE)"
   ]
  },
  {
   "cell_type": "code",
   "execution_count": 17,
   "metadata": {},
   "outputs": [
    {
     "data": {
      "text/plain": [
       "(0, 20000000.0)"
      ]
     },
     "execution_count": 17,
     "metadata": {},
     "output_type": "execute_result"
    },
    {
     "data": {
      "image/png": "[encoded data removed]",
      "text/plain": [
       "<Figure size 432x288 with 1 Axes>"
      ]
     },
     "metadata": {
      "needs_background": "light"
     },
     "output_type": "display_data"
    }
   ],
   "source": [
    "fig=sns.scatterplot(data=df_plot_subsample,x='amount',y='deltaOrig',hue='isFraud')\n",
    "fig.set_ylim(-2e7, 2e7)\n",
    "fig.set_xlim(0, 2e7)"
   ]
  },
  {
   "cell_type": "code",
   "execution_count": 18,
   "metadata": {},
   "outputs": [
    {
     "data": {
      "text/plain": [
       "(0, 20000000.0)"
      ]
     },
     "execution_count": 18,
     "metadata": {},
     "output_type": "execute_result"
    },
    {
     "data": {
      "image/png": "[encoded data removed]",
      "text/plain": [
       "<Figure size 432x288 with 1 Axes>"
      ]
     },
     "metadata": {
      "needs_background": "light"
     },
     "output_type": "display_data"
    }
   ],
   "source": [
    "fig=sns.scatterplot(data=df_plot_subsample,x='amount',y='deltaDest',hue='isFraud')\n",
    "fig.set_ylim(-2e7, 2e7)\n",
    "fig.set_xlim(0, 2e7)"
   ]
  },
  {
   "cell_type": "code",
   "execution_count": 19,
   "metadata": {},
   "outputs": [
    {
     "data": {
      "text/plain": [
       "(-20000000.0, 20000000.0)"
      ]
     },
     "execution_count": 19,
     "metadata": {},
     "output_type": "execute_result"
    },
    {
     "data": {
      "image/png": "[encoded data removed]",
      "text/plain": [
       "<Figure size 432x288 with 1 Axes>"
      ]
     },
     "metadata": {
      "needs_background": "light"
     },
     "output_type": "display_data"
    }
   ],
   "source": [
    "fig=sns.scatterplot(data=df_plot_subsample,x='deltaOrig',y='deltaDest',hue='isFraud')\n",
    "fig.set_ylim(-2e7, 2e7)\n",
    "fig.set_xlim(-2e7, 2e7)"
   ]
  },
  {
   "cell_type": "markdown",
   "metadata": {},
   "source": [
    "Conclusion: the scatterplots don't do a whole lot to tell us more about the data than our heuristic model already does.\n"
   ]
  },
  {
   "cell_type": "markdown",
   "metadata": {},
   "source": [
    "## Simple Models\n",
    "\n",
    "compare 3 simple models:\n",
    "- logistic regression\n",
    "- random forest\n",
    "- xgboost"
   ]
  },
  {
   "cell_type": "code",
   "execution_count": 20,
   "metadata": {},
   "outputs": [],
   "source": [
    "from sklearn.model_selection import train_test_split\n",
    "from sklearn.linear_model import LogisticRegression\n",
    "from sklearn.ensemble import RandomForestClassifier, GradientBoostingClassifier\n",
    "from sklearn import metrics\n",
    "\n",
    "def df_prep_for_models(df,drop_first=True):\n",
    "    df1 = df.replace([np.inf, -np.inf], np.nan).dropna().drop(['step','fraud_prediction'],axis=1)\n",
    "    df1 = pd.get_dummies(df1, drop_first=drop_first)\n",
    "    return(df1)\n",
    "\n",
    "dff = df_prep_for_models(df,drop_first=True)\n",
    "\n",
    "y = dff.pop('isFraud')\n",
    "X = dff\n",
    "\n",
    "X_train, X_test, y_train, y_test = train_test_split(X, y, test_size=0.25, random_state=0)"
   ]
  },
  {
   "cell_type": "markdown",
   "metadata": {},
   "source": [
    "### LogReg"
   ]
  },
  {
   "cell_type": "code",
   "execution_count": 21,
   "metadata": {},
   "outputs": [
    {
     "name": "stdout",
     "output_type": "stream",
     "text": [
      "\n",
      " logisticRegr\n",
      "[[1555555    6473]\n",
      " [    767    1295]] \n",
      " F1 score: (0.2634791454730417, 0.00035223639065772055)\n"
     ]
    }
   ],
   "source": [
    "logisticRegr = LogisticRegression()\n",
    "logisticRegr.fit(X_train, y_train)\n",
    "\n",
    "predictions = logisticRegr.predict(X_test)\n",
    "cm = metrics.confusion_matrix(y_test, predictions)\n",
    "print(f'\\n logisticRegr')\n",
    "print(cm,'\\n F1 score:',f1_score(cm))"
   ]
  },
  {
   "cell_type": "markdown",
   "metadata": {},
   "source": [
    "### RandomForest"
   ]
  },
  {
   "cell_type": "code",
   "execution_count": 22,
   "metadata": {},
   "outputs": [
    {
     "name": "stdout",
     "output_type": "stream",
     "text": [
      "\n",
      " RandomForestClassifier\n",
      "[[1537312   24716]\n",
      " [      8    2054]] \n",
      " F1 score: (0.142480577136515, 0.00027949136234900544)\n"
     ]
    }
   ],
   "source": [
    "# for the tree methods redo the dummies to include one for each category\n",
    "\n",
    "dff = df_prep_for_models(df,drop_first=False)\n",
    "y = dff.pop('isFraud')\n",
    "X = dff\n",
    "X_train, X_test, y_train, y_test = train_test_split(X, y, test_size=0.25, random_state=0)\n",
    "\n",
    "RFClassifier = RandomForestClassifier(max_depth=2, random_state=0, class_weight='balanced')\n",
    "RFClassifier.fit(X_train, y_train)\n",
    "\n",
    "predictions = RFClassifier.predict(X_test)\n",
    "cm = metrics.confusion_matrix(y_test, predictions)\n",
    "print(f'\\n RandomForestClassifier')\n",
    "print(cm,'\\n F1 score:',f1_score(cm))"
   ]
  },
  {
   "cell_type": "markdown",
   "metadata": {},
   "source": [
    "### XGBoost"
   ]
  },
  {
   "cell_type": "code",
   "execution_count": 23,
   "metadata": {},
   "outputs": [],
   "source": [
    "def set_sample_weights(y_train):\n",
    "    sample_weights = np.zeros(len(y_train))\n",
    "    n_pos = sum(y_train)\n",
    "    n_neg = len(y_train) - n_pos\n",
    "    w_pos = (n_pos+n_neg)/(2*n_pos)\n",
    "    w_neg = (n_pos+n_neg)/(2*n_neg)\n",
    "    sample_weights[y_train == 0] = w_neg\n",
    "    sample_weights[y_train == 1] = w_pos\n",
    "    return(sample_weights)"
   ]
  },
  {
   "cell_type": "code",
   "execution_count": 24,
   "metadata": {},
   "outputs": [
    {
     "name": "stdout",
     "output_type": "stream",
     "text": [
      "\n",
      " GradientBoostingClassifier\n",
      "[[1561969      59]\n",
      " [     78    1984]] \n",
      " F1 score: (0.966626065773447, 0.00014361557085915998)\n"
     ]
    }
   ],
   "source": [
    "XGBClassifier = GradientBoostingClassifier(n_estimators=100, learning_rate=1.0,\n",
    "    max_depth=1, random_state=0)\n",
    "sample_weights = set_sample_weights(y_train)\n",
    "XGBClassifier.fit(X_train, y_train, sample_weight = sample_weights)\n",
    "\n",
    "\n",
    "predictions = XGBClassifier.predict(X_test)\n",
    "cm = metrics.confusion_matrix(y_test, predictions)\n",
    "print(f'\\n GradientBoostingClassifier')\n",
    "print(cm,'\\n F1 score:',f1_score(cm))"
   ]
  },
  {
   "cell_type": "markdown",
   "metadata": {},
   "source": [
    "Conclusion: Simple XGB performs best but nowhere near as well as heuristic.\n",
    "\n",
    "But I can't help but implement a simple element of the heuristic and see if we can do a bit better; based on the plot above a very strong signal for `isFrand` is just that `amount` is the negative of `deltaOrig` so just make a logical of that."
   ]
  },
  {
   "cell_type": "code",
   "execution_count": 25,
   "metadata": {},
   "outputs": [
    {
     "name": "stdout",
     "output_type": "stream",
     "text": [
      "\n",
      " GradientBoostingClassifier\n",
      "[[1561969      59]\n",
      " [     78    1984]] \n",
      " F1 score: (0.966626065773447, 0.00014361557085915998)\n"
     ]
    }
   ],
   "source": [
    "df['amount_deltaOrig'] = (df['amount'] == -1*df['deltaOrig']).astype(int)\n",
    "dff = df_prep_for_models(df,drop_first=False)\n",
    "y = dff.pop('isFraud')\n",
    "X = dff\n",
    "X_train, X_test, y_train, y_test = train_test_split(X, y, test_size=0.25, random_state=0)\n",
    "XGBClassifier = GradientBoostingClassifier(n_estimators=100, learning_rate=1.0,\n",
    "    max_depth=1, random_state=0)\n",
    "sample_weights = set_sample_weights(y_train)\n",
    "XGBClassifier.fit(X_train, y_train, sample_weight = sample_weights)\n",
    "\n",
    "\n",
    "predictions = XGBClassifier.predict(X_test)\n",
    "cm = metrics.confusion_matrix(y_test, predictions)\n",
    "print(f'\\n GradientBoostingClassifier')\n",
    "print(cm,'\\n F1 score:',f1_score(cm))"
   ]
  },
  {
   "cell_type": "markdown",
   "metadata": {},
   "source": [
    "Conclusion: just this single variable significantly improves the algorithm;\n",
    "I will go back and add this engineered feature early on. "
   ]
  },
  {
   "cell_type": "markdown",
   "metadata": {},
   "source": [
    "### Data chunks\n",
    "\n",
    "Here we will split the data into three chunks and form models on each chunk if the F1 score changes too much\n",
    "\n",
    "(Rudimentary MLOps)"
   ]
  },
  {
   "cell_type": "code",
   "execution_count": 26,
   "metadata": {},
   "outputs": [
    {
     "name": "stdout",
     "output_type": "stream",
     "text": [
      "Original data ++++++++++++++++++++++++++++++++++++++++++++++++++++++++++++\n",
      "===============================================================================\n",
      "step range 1.0 to 156.0 f1 = (0.987485779294653, 8.812778613231313e-05)\n",
      "\n",
      " GradientBoostingClassifier\n",
      "[[397021    321]\n",
      " [     3    440]] \n",
      " F1 score: (0.7308970099667774, 0.000703171029382794)\n",
      "===============================================================================\n",
      "step range 157.0 to 239.0 f1 = (0.995100707675558, 5.6207721656855644e-05)\n",
      "\n",
      " GradientBoostingClassifier\n",
      "[[385547     11]\n",
      " [     1    228]] \n",
      " F1 score: (0.9743589743589743, 0.00025447852878939935)\n",
      "===============================================================================\n",
      "step range 240.0 to 335.0 f1 = (0.9985583853916387, 3.0304287724752508e-05)\n",
      "\n",
      " GradientBoostingClassifier\n",
      "[[391588      3]\n",
      " [     0    290]] \n",
      " F1 score: (0.9948542024013722, 0.00011429487292843653)\n",
      "===============================================================================\n",
      "step range 336.0 to 743.0 f1 = (0.9988753936122358, 2.688144467416749e-05)\n",
      "\n",
      " GradientBoostingClassifier\n",
      "[[387580      0]\n",
      " [     1   1058]] \n",
      " F1 score: (0.9995276334435522, 3.485471602576064e-05)\n"
     ]
    }
   ],
   "source": [
    "ngroups = 4\n",
    "percentiles = 100*(np.append(np.arange(0.,1.0, 1.0/ngroups),1.0))\n",
    "step_values = np.percentile(df.step,percentiles)\n",
    "step_values[0] = 0\n",
    "print('Original data',60*'+')\n",
    "for step in range(len(step_values)-1):\n",
    "    contingency_matrix = pd.crosstab(\\\n",
    "                             df[df['step'].between(step_values[step]+1,step_values[step+1])].fraud_prediction,\n",
    "                             df[df['step'].between(step_values[step]+1,step_values[step+1])].isFraud)\n",
    "    print(79*'=')\n",
    "    print(f'step range {step_values[step]+1} to {step_values[step+1]} f1 = {f1_score(contingency_matrix)}')\n",
    "\n",
    "    df_chunk = df[df['step'].between(step_values[step]+1,step_values[step+1])].copy()\n",
    "    dff = df_prep_for_models(df_chunk,drop_first=False)\n",
    "    y = dff.pop('isFraud')\n",
    "    X = dff\n",
    "    X_train, X_test, y_train, y_test = train_test_split(X, y, test_size=0.25, random_state=0)\n",
    "    XGBClassifier = GradientBoostingClassifier(n_estimators=100, learning_rate=1.0,\n",
    "        max_depth=1, random_state=0)\n",
    "    sample_weights = set_sample_weights(y_train)\n",
    "    XGBClassifier.fit(X_train, y_train, sample_weight = sample_weights)\n",
    "\n",
    "\n",
    "    predictions = XGBClassifier.predict(X_test)\n",
    "    cm = metrics.confusion_matrix(y_test, predictions)\n",
    "    print(f'\\n GradientBoostingClassifier')\n",
    "    print(cm,'\\n F1 score:',f1_score(cm))\n",
    "    \n"
   ]
  },
  {
   "cell_type": "code",
   "execution_count": 27,
   "metadata": {},
   "outputs": [],
   "source": [
    "def poison(df):\n",
    "    if df['deltaDest']==df['amount'] and  df['amount'] > 2882000 and df['isFraud']==0:\n",
    "        return(1)\n",
    "    elif df['isFraud'] == 1 and  df['amount'] == -1*df['deltaOrig']:\n",
    "        return(0)\n",
    "    else:\n",
    "        return(df['isFraud'])\n",
    "\n",
    "def zscore(f1_1,f1_2):\n",
    "    if (f1_1[1]==0 and f1_2[1]==0):\n",
    "        return(None)\n",
    "    else:\n",
    "        return (f1_1[0]-f1_2[0])/np.sqrt(f1_1[1]**2+f1_2[1]**2)\n"
   ]
  },
  {
   "cell_type": "code",
   "execution_count": 28,
   "metadata": {},
   "outputs": [],
   "source": [
    "# set up the alternate target variable\n",
    "df['poison']=df.apply(poison,axis=1)"
   ]
  },
  {
   "cell_type": "code",
   "execution_count": 29,
   "metadata": {},
   "outputs": [
    {
     "name": "stdout",
     "output_type": "stream",
     "text": [
      "Poisoned data ++++++++++++++++++++++++++++++++++++++++++++++++++++++++++++\n",
      " ngroups 4\n",
      " step values [  0. 156. 239. 335. 743.]\n",
      "------------------------------------------------------------------------------\n",
      "step range 1.0 to 156.0\n",
      " Heuristic f1 = (0.987485779294653, 8.812778613231313e-05)\n",
      "\n",
      " This GradientBoostingClassifier\n",
      "[[397340      2]\n",
      " [     0    443]] \n",
      " F1 score: (0.9977477477477478, 7.516099283579007e-05)\n",
      "------------------------------------------------------------------------------\n",
      "step range 157.0 to 239.0\n",
      " Heuristic f1 = (0.0027472527472527475, 4.213545776987154e-05)\n",
      "\n",
      " Prior GradientBoostingClassifier\n",
      "[[1541689     916]\n",
      " [    512      30]] \n",
      " F1 score: (0.04032258064516129, 0.00015835529344619933)\n",
      "RETRAINING; prior F1 score: 0.9977477477477478 new F1 score 0.04032258064516129 zscore: -5462.039520872831\n",
      "\n",
      " This GradientBoostingClassifier\n",
      "[[385639      0]\n",
      " [     0    148]] \n",
      " F1 score: (1.0, 0.0)\n",
      "------------------------------------------------------------------------------\n",
      "step range 240.0 to 335.0\n",
      " Heuristic f1 = (0.00042354934349851756, 1.6434359254731533e-05)\n",
      "\n",
      " Prior GradientBoostingClassifier\n",
      "[[1563838       0]\n",
      " [      0    3683]] \n",
      " F1 score: (1.0, 0.0)\n",
      "No need to retrain; prior F1 score: 1.0 new F1 score 1.0 zscore: None\n",
      "\n",
      " This GradientBoostingClassifier\n",
      "[[385639      0]\n",
      " [     0    148]] \n",
      " F1 score: (1.0, 0.0)\n",
      "------------------------------------------------------------------------------\n",
      "step range 336.0 to 743.0\n",
      " Heuristic f1 = (0.9988753936122358, 2.688144467416749e-05)\n",
      "\n",
      " Prior GradientBoostingClassifier\n",
      "[[1547059    3043]\n",
      " [   4420      31]] \n",
      " F1 score: (0.00823920265780731, 7.250078951487469e-05)\n",
      "RETRAINING; prior F1 score: 1.0 new F1 score 0.00823920265780731 zscore: -13679.310307906608\n",
      "\n",
      " This GradientBoostingClassifier\n",
      "[[387580      0]\n",
      " [    11   1048]] \n",
      " F1 score: (0.9947793070716658, 0.00011559845274196528)\n"
     ]
    }
   ],
   "source": [
    "print('Poisoned data',60*'+')\n",
    "print(f' ngroups {ngroups}')\n",
    "print(f' step values {step_values}')\n",
    "for step in range(len(step_values)-1):\n",
    "    print(78*'-')\n",
    "    df_chunk = df[df['step'].between(step_values[step]+1,step_values[step+1])].copy()\n",
    "    if (step==1 or step==2):\n",
    "        contingency_matrix = pd.crosstab(\\\n",
    "                                 df_chunk.fraud_prediction,\n",
    "                                 df_chunk.poison)\n",
    "    else:\n",
    "        contingency_matrix = pd.crosstab(\\\n",
    "                                 df_chunk.fraud_prediction,\n",
    "                                 df_chunk.isFraud)\n",
    "    print(f'step range {step_values[step]+1} to {step_values[step+1]}\\n Heuristic f1 = {f1_score(contingency_matrix)}')\n",
    "    dff = df_prep_for_models(df_chunk,drop_first=False)\n",
    "    if (step==1 or step==2):\n",
    "        dff['isFraud'] = dff['poison']\n",
    "        dff.drop('poison',axis=1)\n",
    "    else:\n",
    "        dff.drop('poison',axis=1)\n",
    "\n",
    "\n",
    "    y = dff.pop('isFraud')\n",
    "    X = dff\n",
    "    # retrain?\n",
    "    if step == 0:\n",
    "        X_train, X_test, y_train, y_test = train_test_split(X, y, test_size=0.25, random_state=0)\n",
    "        XGBClassifier = GradientBoostingClassifier(n_estimators=100, learning_rate=1.0,\n",
    "            max_depth=1, random_state=0)\n",
    "        sample_weights = set_sample_weights(y_train)\n",
    "        XGBClassifier.fit(X_train, y_train, sample_weight = sample_weights)\n",
    "    elif step>0:\n",
    "        predictions = XGBClassifier.predict(X)\n",
    "        cm = metrics.confusion_matrix(y, predictions)\n",
    "        print(f'\\n Prior GradientBoostingClassifier')\n",
    "        this_f1score = f1_score(cm)\n",
    "        print(cm,'\\n F1 score:',f1_score(cm))\n",
    "        if (not zscore(this_f1score,last_f1score)): \n",
    "            print(f'No need to retrain; prior F1 score: {last_f1score[0]} new F1 score {this_f1score[0]} zscore: {zscore(this_f1score,last_f1score)}')\n",
    "        elif (zscore(this_f1score,last_f1score) < -4.0):\n",
    "            print(f'RETRAINING; prior F1 score: {last_f1score[0]} new F1 score {this_f1score[0]} zscore: {zscore(this_f1score,last_f1score)}')\n",
    "            # retrain\n",
    "            X_train, X_test, y_train, y_test = train_test_split(X, y, test_size=0.25, random_state=0)\n",
    "            XGBClassifier = GradientBoostingClassifier(n_estimators=100, learning_rate=1.0,\n",
    "                max_depth=1, random_state=0)\n",
    "            sample_weights = set_sample_weights(y_train)\n",
    "            XGBClassifier.fit(X_train, y_train, sample_weight = sample_weights)\n",
    "        else:\n",
    "            print(f'No need to retrain; prior F1 score: {last_f1score[0]} new F1 score {this_f1score[0]} zscore: {zscore(this_f1score,last_f1score)}')\n",
    "\n",
    "\n",
    "    predictions = XGBClassifier.predict(X_test)\n",
    "    cm = metrics.confusion_matrix(y_test, predictions)\n",
    "    print(f'\\n This GradientBoostingClassifier')\n",
    "    last_f1score = f1_score(cm)\n",
    "    print(cm,'\\n F1 score:',last_f1score)\n",
    "    \n"
   ]
  },
  {
   "cell_type": "code",
   "execution_count": 30,
   "metadata": {},
   "outputs": [
    {
     "name": "stdout",
     "output_type": "stream",
     "text": [
      "(0.9947793070716658, 0.00011559845274196528) (0.5, 0.1)\n",
      "4.947789764851468\n"
     ]
    }
   ],
   "source": [
    "this_f1score = f1_score(cm)\n",
    "last_f1score = (0.5,0.1)\n",
    "print(this_f1score,last_f1score)\n",
    "def zscore(f1_1,f1_2):\n",
    "    if (f1_1[1]==0 and f1_2[1]==0):\n",
    "        return(None)\n",
    "    else:\n",
    "        return (f1_1[0]-f1_2[0])/np.sqrt(f1_1[1]**2+f1_2[1]**2)\n",
    "print(zscore(this_f1score,last_f1score))"
   ]
  },
  {
   "cell_type": "code",
   "execution_count": 31,
   "metadata": {},
   "outputs": [
    {
     "data": {
      "text/plain": [
       "1.2100000000000002"
      ]
     },
     "execution_count": 31,
     "metadata": {},
     "output_type": "execute_result"
    }
   ],
   "source": [
    "1.1**2"
   ]
  },
  {
   "cell_type": "code",
   "execution_count": 32,
   "metadata": {},
   "outputs": [
    {
     "data": {
      "text/html": [
       "<div>\n",
       "<style scoped>\n",
       "    .dataframe tbody tr th:only-of-type {\n",
       "        vertical-align: middle;\n",
       "    }\n",
       "\n",
       "    .dataframe tbody tr th {\n",
       "        vertical-align: top;\n",
       "    }\n",
       "\n",
       "    .dataframe thead th {\n",
       "        text-align: right;\n",
       "    }\n",
       "</style>\n",
       "<table border=\"1\" class=\"dataframe\">\n",
       "  <thead>\n",
       "    <tr style=\"text-align: right;\">\n",
       "      <th></th>\n",
       "      <th>step</th>\n",
       "      <th>type</th>\n",
       "      <th>amount</th>\n",
       "      <th>oldbalanceOrg</th>\n",
       "      <th>newbalanceOrig</th>\n",
       "      <th>oldbalanceDest</th>\n",
       "      <th>newbalanceDest</th>\n",
       "      <th>isFraud</th>\n",
       "      <th>deltaOrig</th>\n",
       "      <th>deltaDest</th>\n",
       "      <th>amount_previous</th>\n",
       "      <th>type_previous</th>\n",
       "      <th>amount_deltaOrig</th>\n",
       "      <th>fraud_prediction</th>\n",
       "      <th>poison</th>\n",
       "    </tr>\n",
       "  </thead>\n",
       "  <tbody>\n",
       "    <tr>\n",
       "      <th>0</th>\n",
       "      <td>1</td>\n",
       "      <td>PAYMENT</td>\n",
       "      <td>9839.64</td>\n",
       "      <td>170136.00</td>\n",
       "      <td>160296.36</td>\n",
       "      <td>0.00</td>\n",
       "      <td>0.00</td>\n",
       "      <td>0</td>\n",
       "      <td>-9839.64</td>\n",
       "      <td>0.00</td>\n",
       "      <td>NaN</td>\n",
       "      <td>NaN</td>\n",
       "      <td>0</td>\n",
       "      <td>0.0</td>\n",
       "      <td>0</td>\n",
       "    </tr>\n",
       "    <tr>\n",
       "      <th>1</th>\n",
       "      <td>1</td>\n",
       "      <td>PAYMENT</td>\n",
       "      <td>1864.28</td>\n",
       "      <td>21249.00</td>\n",
       "      <td>19384.72</td>\n",
       "      <td>0.00</td>\n",
       "      <td>0.00</td>\n",
       "      <td>0</td>\n",
       "      <td>-1864.28</td>\n",
       "      <td>0.00</td>\n",
       "      <td>9839.64</td>\n",
       "      <td>PAYMENT</td>\n",
       "      <td>0</td>\n",
       "      <td>0.0</td>\n",
       "      <td>0</td>\n",
       "    </tr>\n",
       "    <tr>\n",
       "      <th>2</th>\n",
       "      <td>1</td>\n",
       "      <td>TRANSFER</td>\n",
       "      <td>181.00</td>\n",
       "      <td>181.00</td>\n",
       "      <td>0.00</td>\n",
       "      <td>0.00</td>\n",
       "      <td>0.00</td>\n",
       "      <td>1</td>\n",
       "      <td>-181.00</td>\n",
       "      <td>0.00</td>\n",
       "      <td>1864.28</td>\n",
       "      <td>PAYMENT</td>\n",
       "      <td>1</td>\n",
       "      <td>1.0</td>\n",
       "      <td>0</td>\n",
       "    </tr>\n",
       "    <tr>\n",
       "      <th>3</th>\n",
       "      <td>1</td>\n",
       "      <td>CASH_OUT</td>\n",
       "      <td>181.00</td>\n",
       "      <td>181.00</td>\n",
       "      <td>0.00</td>\n",
       "      <td>21182.00</td>\n",
       "      <td>0.00</td>\n",
       "      <td>1</td>\n",
       "      <td>-181.00</td>\n",
       "      <td>-21182.00</td>\n",
       "      <td>181.00</td>\n",
       "      <td>TRANSFER</td>\n",
       "      <td>1</td>\n",
       "      <td>1.0</td>\n",
       "      <td>0</td>\n",
       "    </tr>\n",
       "    <tr>\n",
       "      <th>4</th>\n",
       "      <td>1</td>\n",
       "      <td>PAYMENT</td>\n",
       "      <td>11668.14</td>\n",
       "      <td>41554.00</td>\n",
       "      <td>29885.86</td>\n",
       "      <td>0.00</td>\n",
       "      <td>0.00</td>\n",
       "      <td>0</td>\n",
       "      <td>-11668.14</td>\n",
       "      <td>0.00</td>\n",
       "      <td>181.00</td>\n",
       "      <td>CASH_OUT</td>\n",
       "      <td>1</td>\n",
       "      <td>0.0</td>\n",
       "      <td>0</td>\n",
       "    </tr>\n",
       "    <tr>\n",
       "      <th>...</th>\n",
       "      <td>...</td>\n",
       "      <td>...</td>\n",
       "      <td>...</td>\n",
       "      <td>...</td>\n",
       "      <td>...</td>\n",
       "      <td>...</td>\n",
       "      <td>...</td>\n",
       "      <td>...</td>\n",
       "      <td>...</td>\n",
       "      <td>...</td>\n",
       "      <td>...</td>\n",
       "      <td>...</td>\n",
       "      <td>...</td>\n",
       "      <td>...</td>\n",
       "      <td>...</td>\n",
       "    </tr>\n",
       "    <tr>\n",
       "      <th>6362615</th>\n",
       "      <td>743</td>\n",
       "      <td>CASH_OUT</td>\n",
       "      <td>339682.13</td>\n",
       "      <td>339682.13</td>\n",
       "      <td>0.00</td>\n",
       "      <td>0.00</td>\n",
       "      <td>339682.13</td>\n",
       "      <td>1</td>\n",
       "      <td>-339682.13</td>\n",
       "      <td>339682.13</td>\n",
       "      <td>339682.13</td>\n",
       "      <td>TRANSFER</td>\n",
       "      <td>1</td>\n",
       "      <td>1.0</td>\n",
       "      <td>0</td>\n",
       "    </tr>\n",
       "    <tr>\n",
       "      <th>6362616</th>\n",
       "      <td>743</td>\n",
       "      <td>TRANSFER</td>\n",
       "      <td>6311409.28</td>\n",
       "      <td>6311409.28</td>\n",
       "      <td>0.00</td>\n",
       "      <td>0.00</td>\n",
       "      <td>0.00</td>\n",
       "      <td>1</td>\n",
       "      <td>-6311409.28</td>\n",
       "      <td>0.00</td>\n",
       "      <td>339682.13</td>\n",
       "      <td>CASH_OUT</td>\n",
       "      <td>1</td>\n",
       "      <td>1.0</td>\n",
       "      <td>0</td>\n",
       "    </tr>\n",
       "    <tr>\n",
       "      <th>6362617</th>\n",
       "      <td>743</td>\n",
       "      <td>CASH_OUT</td>\n",
       "      <td>6311409.28</td>\n",
       "      <td>6311409.28</td>\n",
       "      <td>0.00</td>\n",
       "      <td>68488.84</td>\n",
       "      <td>6379898.11</td>\n",
       "      <td>1</td>\n",
       "      <td>-6311409.28</td>\n",
       "      <td>6311409.27</td>\n",
       "      <td>6311409.28</td>\n",
       "      <td>TRANSFER</td>\n",
       "      <td>1</td>\n",
       "      <td>1.0</td>\n",
       "      <td>0</td>\n",
       "    </tr>\n",
       "    <tr>\n",
       "      <th>6362618</th>\n",
       "      <td>743</td>\n",
       "      <td>TRANSFER</td>\n",
       "      <td>850002.52</td>\n",
       "      <td>850002.52</td>\n",
       "      <td>0.00</td>\n",
       "      <td>0.00</td>\n",
       "      <td>0.00</td>\n",
       "      <td>1</td>\n",
       "      <td>-850002.52</td>\n",
       "      <td>0.00</td>\n",
       "      <td>6311409.28</td>\n",
       "      <td>CASH_OUT</td>\n",
       "      <td>1</td>\n",
       "      <td>1.0</td>\n",
       "      <td>0</td>\n",
       "    </tr>\n",
       "    <tr>\n",
       "      <th>6362619</th>\n",
       "      <td>743</td>\n",
       "      <td>CASH_OUT</td>\n",
       "      <td>850002.52</td>\n",
       "      <td>850002.52</td>\n",
       "      <td>0.00</td>\n",
       "      <td>6510099.11</td>\n",
       "      <td>7360101.63</td>\n",
       "      <td>1</td>\n",
       "      <td>-850002.52</td>\n",
       "      <td>850002.52</td>\n",
       "      <td>850002.52</td>\n",
       "      <td>TRANSFER</td>\n",
       "      <td>1</td>\n",
       "      <td>1.0</td>\n",
       "      <td>0</td>\n",
       "    </tr>\n",
       "  </tbody>\n",
       "</table>\n",
       "<p>6362620 rows × 15 columns</p>\n",
       "</div>"
      ],
      "text/plain": [
       "         step      type      amount  oldbalanceOrg  newbalanceOrig  \\\n",
       "0           1   PAYMENT     9839.64      170136.00       160296.36   \n",
       "1           1   PAYMENT     1864.28       21249.00        19384.72   \n",
       "2           1  TRANSFER      181.00         181.00            0.00   \n",
       "3           1  CASH_OUT      181.00         181.00            0.00   \n",
       "4           1   PAYMENT    11668.14       41554.00        29885.86   \n",
       "...       ...       ...         ...            ...             ...   \n",
       "6362615   743  CASH_OUT   339682.13      339682.13            0.00   \n",
       "6362616   743  TRANSFER  6311409.28     6311409.28            0.00   \n",
       "6362617   743  CASH_OUT  6311409.28     6311409.28            0.00   \n",
       "6362618   743  TRANSFER   850002.52      850002.52            0.00   \n",
       "6362619   743  CASH_OUT   850002.52      850002.52            0.00   \n",
       "\n",
       "         oldbalanceDest  newbalanceDest  isFraud   deltaOrig   deltaDest  \\\n",
       "0                  0.00            0.00        0    -9839.64        0.00   \n",
       "1                  0.00            0.00        0    -1864.28        0.00   \n",
       "2                  0.00            0.00        1     -181.00        0.00   \n",
       "3              21182.00            0.00        1     -181.00   -21182.00   \n",
       "4                  0.00            0.00        0   -11668.14        0.00   \n",
       "...                 ...             ...      ...         ...         ...   \n",
       "6362615            0.00       339682.13        1  -339682.13   339682.13   \n",
       "6362616            0.00            0.00        1 -6311409.28        0.00   \n",
       "6362617        68488.84      6379898.11        1 -6311409.28  6311409.27   \n",
       "6362618            0.00            0.00        1  -850002.52        0.00   \n",
       "6362619      6510099.11      7360101.63        1  -850002.52   850002.52   \n",
       "\n",
       "         amount_previous type_previous  amount_deltaOrig  fraud_prediction  \\\n",
       "0                    NaN           NaN                 0               0.0   \n",
       "1                9839.64       PAYMENT                 0               0.0   \n",
       "2                1864.28       PAYMENT                 1               1.0   \n",
       "3                 181.00      TRANSFER                 1               1.0   \n",
       "4                 181.00      CASH_OUT                 1               0.0   \n",
       "...                  ...           ...               ...               ...   \n",
       "6362615        339682.13      TRANSFER                 1               1.0   \n",
       "6362616        339682.13      CASH_OUT                 1               1.0   \n",
       "6362617       6311409.28      TRANSFER                 1               1.0   \n",
       "6362618       6311409.28      CASH_OUT                 1               1.0   \n",
       "6362619        850002.52      TRANSFER                 1               1.0   \n",
       "\n",
       "         poison  \n",
       "0             0  \n",
       "1             0  \n",
       "2             0  \n",
       "3             0  \n",
       "4             0  \n",
       "...         ...  \n",
       "6362615       0  \n",
       "6362616       0  \n",
       "6362617       0  \n",
       "6362618       0  \n",
       "6362619       0  \n",
       "\n",
       "[6362620 rows x 15 columns]"
      ]
     },
     "execution_count": 32,
     "metadata": {},
     "output_type": "execute_result"
    }
   ],
   "source": [
    "df"
   ]
  },
  {
   "cell_type": "code",
   "execution_count": 33,
   "metadata": {},
   "outputs": [
    {
     "data": {
      "text/plain": [
       "3686583    92445516.64\n",
       "3937152    67500761.29\n",
       "3991638    63847992.58\n",
       "4076755    62785416.91\n",
       "3682190    60965275.64\n",
       "              ...     \n",
       "5002799     2882050.84\n",
       "4378220     2882014.50\n",
       "5600330     2882013.89\n",
       "2249891     2881789.68\n",
       "44671       2881739.96\n",
       "Name: amount, Length: 8000, dtype: float64"
      ]
     },
     "execution_count": 33,
     "metadata": {},
     "output_type": "execute_result"
    }
   ],
   "source": [
    "\n",
    "df[df['deltaDest']==df['amount']]['amount'].nlargest(8000)\n"
   ]
  },
  {
   "cell_type": "markdown",
   "metadata": {},
   "source": [
    "### Data poisoning:\n",
    "- kill the isFrauds where \n",
    "- make df['deltaDest']==df['amount'] and amount > 2881789.68 into fraud\n",
    "- add in the variable df['deltaDest']==df['amount']  to be fair for finding a decent model"
   ]
  },
  {
   "cell_type": "markdown",
   "metadata": {},
   "source": [
    "### Write out original and poisoned datasets to S3 for MLOps POC\n",
    "\n",
    "Final steps in this exploration:\n",
    "- [ ] re-read data from s3 and only poison it then write it back out as a single CSV\n",
    "- [x] make a list of the feature engineering steps that I need when we get to the automated process\n",
    "- [x] simulate the 4-group training only to re-do training if F1 falls below a certain value (maybe the old one?  Maybe a few sigma away?) and then pick the model that does better.\n"
   ]
  },
  {
   "cell_type": "markdown",
   "metadata": {},
   "source": [
    "#### Data engineering"
   ]
  },
  {
   "cell_type": "code",
   "execution_count": 34,
   "metadata": {},
   "outputs": [
    {
     "name": "stdout",
     "output_type": "stream",
     "text": [
      "Variables in original, not in training sample: ['isFlaggedFraud', 'isFraud', 'nameDest', 'nameOrig', 'step', 'type']\n",
      "Variables in training sample, not in original: ['amount_deltaOrig', 'amount_previous', 'deltaDest', 'deltaOrig', 'poison', 'type_CASH_IN', 'type_CASH_OUT', 'type_DEBIT', 'type_PAYMENT', 'type_TRANSFER', 'type_previous_CASH_IN', 'type_previous_CASH_OUT', 'type_previous_DEBIT', 'type_previous_PAYMENT', 'type_previous_TRANSFER']\n"
     ]
    }
   ],
   "source": [
    "# what variables are in my model-formation versus original dataframes\n",
    "data_key = 'aiml-blackbelt-2021/rawdata/PS_20174392719_1491204439457_log_tiny.csv'\n",
    "csv_obj = s3_client.get_object(Bucket=bucket, Key=data_key)\n",
    "body = csv_obj['Body']\n",
    "csv_string = body.read().decode('utf-8')\n",
    "df_orig = pd.read_csv(StringIO(csv_string))\n",
    "print(f'Variables in original, not in training sample: {sorted(set(df_orig.columns)-set(dff.columns))}')\n",
    "print(f'Variables in training sample, not in original: {sorted(set(dff.columns)-set(df_orig.columns))}')\n"
   ]
  },
  {
   "cell_type": "markdown",
   "metadata": {},
   "source": [
    "#### Data Engineering Conclusion:\n",
    "- previous step information for type and amount \n",
    "- dummmy variable the types and the previous_types (5 per; 10 total)\n",
    "- poison variable to isFraud for the poisoned data sections\n",
    "- drop prior to training: isFlaggedFraud, nameDest, nameOrig, type and previous_type (replace with dummies)\n",
    "- amount_deltaOrig which is whether amount is equal to the negative of deltaOrig"
   ]
  },
  {
   "cell_type": "code",
   "execution_count": 35,
   "metadata": {},
   "outputs": [
    {
     "data": {
      "text/plain": [
       "(6362620, 15)"
      ]
     },
     "execution_count": 35,
     "metadata": {},
     "output_type": "execute_result"
    }
   ],
   "source": [
    "df.shape"
   ]
  },
  {
   "cell_type": "markdown",
   "metadata": {},
   "source": [
    "### Create Poisoned DataSet"
   ]
  },
  {
   "cell_type": "code",
   "execution_count": 42,
   "metadata": {},
   "outputs": [
    {
     "name": "stdout",
     "output_type": "stream",
     "text": [
      "------------------------------------------------------------------------------\n",
      "0 (1617638, 13)\n",
      "0 Index(['step', 'type', 'amount', 'nameOrig', 'oldbalanceOrg', 'newbalanceOrig',\n",
      "       'nameDest', 'oldbalanceDest', 'newbalanceDest', 'isFraud',\n",
      "       'isFlaggedFraud', 'deltaOrig', 'deltaDest'],\n",
      "      dtype='object')\n",
      "------------------------------------------------------------------------------\n",
      "1 (3186492, 13)\n",
      "1 Index(['step', 'type', 'amount', 'nameOrig', 'oldbalanceOrg', 'newbalanceOrig',\n",
      "       'nameDest', 'oldbalanceDest', 'newbalanceDest', 'isFraud',\n",
      "       'isFlaggedFraud', 'deltaOrig', 'deltaDest'],\n",
      "      dtype='object')\n",
      "------------------------------------------------------------------------------\n",
      "2 (4781843, 13)\n",
      "2 Index(['step', 'type', 'amount', 'nameOrig', 'oldbalanceOrg', 'newbalanceOrig',\n",
      "       'nameDest', 'oldbalanceDest', 'newbalanceDest', 'isFraud',\n",
      "       'isFlaggedFraud', 'deltaOrig', 'deltaDest'],\n",
      "      dtype='object')\n",
      "------------------------------------------------------------------------------\n",
      "3 Index(['step', 'type', 'amount', 'nameOrig', 'oldbalanceOrg', 'newbalanceOrig',\n",
      "       'nameDest', 'oldbalanceDest', 'newbalanceDest', 'isFraud',\n",
      "       'isFlaggedFraud', 'deltaOrig', 'deltaDest'],\n",
      "      dtype='object')\n"
     ]
    }
   ],
   "source": [
    "bucket = '1s-gary'\n",
    "data_key = 'aiml-blackbelt-2021/rawdata/PS_20174392719_1491204439457_log.csv'\n",
    "s3_client = boto3.client('s3')\n",
    "csv_obj = s3_client.get_object(Bucket=bucket, Key=data_key)\n",
    "body = csv_obj['Body']\n",
    "csv_string = body.read().decode('utf-8')\n",
    "df = pd.read_csv(StringIO(csv_string))\n",
    "# needed for poison\n",
    "df['deltaOrig']=df['newbalanceOrig']-df['oldbalanceOrg']\n",
    "df['deltaDest']=df['newbalanceDest']-df['oldbalanceDest']\n",
    "\n",
    "df['poison']=df.apply(poison,axis=1)\n",
    "\n",
    "ngroups = 4\n",
    "percentiles = 100*(np.append(np.arange(0.,1.0, 1.0/ngroups),1.0))\n",
    "step_values = np.percentile(df.step,percentiles)\n",
    "step_values[0] = 0\n",
    "\n",
    "for step in range(len(step_values)-1):\n",
    "    print(78*'-')\n",
    "    df_chunk = df[df['step'].between(step_values[step]+1,step_values[step+1])].copy()\n",
    "    if (step==0):\n",
    "        df_store = df_chunk.drop('poison',axis=1)\n",
    "        print(step,df_store.shape)\n",
    "        print(step,df_store.columns)\n",
    "    elif (step==1 or step==2):\n",
    "        df_chunk['isFraud'] = df_chunk['poison']\n",
    "        df_chunk.drop('poison',axis=1,inplace=True)\n",
    "        df_store = df_store.append([df_chunk])\n",
    "        print(step,df_store.shape)\n",
    "        print(step,df_store.columns)\n",
    "    else:\n",
    "        df_chunk.drop('poison',axis=1,inplace=True)\n",
    "        df_store = df_store.append([df_chunk])\n",
    "        print(step,df_store.columns)\n",
    "\n"
   ]
  },
  {
   "cell_type": "code",
   "execution_count": 43,
   "metadata": {},
   "outputs": [],
   "source": [
    "df_store.drop(['deltaOrig','deltaDest'],axis=1,inplace=True)"
   ]
  },
  {
   "cell_type": "code",
   "execution_count": 44,
   "metadata": {},
   "outputs": [
    {
     "data": {
      "text/plain": [
       "{'ResponseMetadata': {'RequestId': 'SC5CJKCKYGMZA20E',\n",
       "  'HostId': 'BLwNQBHKN7QRtvoXmlPRUvuIwqBDfBNQ8UKKinahidrUw0ZusF9Bq1ajy4ymUx9QiZIaSinNzeA=',\n",
       "  'HTTPStatusCode': 200,\n",
       "  'HTTPHeaders': {'x-amz-id-2': 'BLwNQBHKN7QRtvoXmlPRUvuIwqBDfBNQ8UKKinahidrUw0ZusF9Bq1ajy4ymUx9QiZIaSinNzeA=',\n",
       "   'x-amz-request-id': 'SC5CJKCKYGMZA20E',\n",
       "   'date': 'Wed, 05 Jan 2022 04:34:01 GMT',\n",
       "   'etag': '\"fc091e04b8b0abb531a0e94c6ab5c6ca\"',\n",
       "   'server': 'AmazonS3',\n",
       "   'content-length': '0'},\n",
       "  'RetryAttempts': 0},\n",
       " 'ETag': '\"fc091e04b8b0abb531a0e94c6ab5c6ca\"'}"
      ]
     },
     "execution_count": 44,
     "metadata": {},
     "output_type": "execute_result"
    }
   ],
   "source": [
    "bucket = '1s-gary' \n",
    "data_model_drift_key = 'aiml-blackbelt-2021/rawdata/PS_20174392719_1491204439457_log_model_drift.csv'\n",
    "csv_buffer = StringIO()\n",
    "df_store.to_csv(csv_buffer)\n",
    "s3_resource = boto3.resource('s3')\n",
    "s3_resource.Object(bucket, data_model_drift_key).put(Body=csv_buffer.getvalue())\n"
   ]
  },
  {
   "cell_type": "code",
   "execution_count": null,
   "metadata": {},
   "outputs": [],
   "source": []
  }
 ],
 "metadata": {
  "instance_type": "ml.g4dn.xlarge",
  "kernelspec": {
   "display_name": "Python 3 (Data Science)",
   "language": "python",
   "name": "python3__SAGEMAKER_INTERNAL__arn:aws:sagemaker:us-west-2:236514542706:image/datascience-1.0"
  },
  "language_info": {
   "codemirror_mode": {
    "name": "ipython",
    "version": 3
   },
   "file_extension": ".py",
   "mimetype": "text/x-python",
   "name": "python",
   "nbconvert_exporter": "python",
   "pygments_lexer": "ipython3",
   "version": "3.7.10"
  }
 },
 "nbformat": 4,
 "nbformat_minor": 4
}
