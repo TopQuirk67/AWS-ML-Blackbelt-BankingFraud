{
 "cells": [
  {
   "cell_type": "markdown",
   "metadata": {},
   "source": [
    "### The purpose of this notebook is to perform initial data explorations for the Banking Fraud Data set."
   ]
  },
  {
   "cell_type": "markdown",
   "metadata": {},
   "source": [
    "### Data Sample Specifications \n",
    "\n",
    "This is a sample of 1 row with headers explanation:\n",
    "\n",
    "1,PAYMENT,1060.31,C429214117,1089.0,28.69,M1591654462,0.0,0.0,0,0\n",
    "\n",
    "step - maps a unit of time in the real world. In this case 1 step is 1 hour of time. Total steps 744 (30 days simulation).\n",
    "\n",
    "type - CASH-IN, CASH-OUT, DEBIT, PAYMENT and TRANSFER.\n",
    "\n",
    "amount -\n",
    "amount of the transaction in local currency.\n",
    "\n",
    "nameOrig - customer who started the transaction\n",
    "\n",
    "oldbalanceOrg - initial balance before the transaction\n",
    "\n",
    "newbalanceOrig - new balance after the transaction\n",
    "\n",
    "nameDest - customer who is the recipient of the transaction\n",
    "\n",
    "oldbalanceDest - initial balance recipient before the transaction. Note that there is not information for customers that start with M (Merchants).\n",
    "\n",
    "newbalanceDest - new balance recipient after the transaction. Note that there is not information for customers that start with M (Merchants).\n",
    "\n",
    "isFraud - This is the transactions made by the fraudulent agents inside the simulation. In this specific dataset the fraudulent behavior of the agents aims to profit by taking control or customers accounts and try to empty the funds by transferring to another account and then cashing out of the system.\n",
    "\n",
    "isFlaggedFraud - The business model aims to control massive transfers from one account to another and flags illegal attempts. An illegal attempt in this dataset is an attempt to transfer more than 200.000 in a single transaction."
   ]
  },
  {
   "cell_type": "code",
   "execution_count": 34,
   "metadata": {},
   "outputs": [],
   "source": [
    "import os\n",
    "import boto3\n",
    "import pandas as pd\n",
    "import sagemaker as sm\n",
    "from io import StringIO\n",
    "\n",
    "# aws_key = os.environ['AWS_ACCESS_KEY']\n",
    "# aws_secret = os.environ['AWS_SECRET_ACCESS_KEY']\n",
    "\n",
    "# role = sm.get_execution_role()\n",
    "# sm_session = sm.session.Session()\n",
    "\n",
    "bucket = '1s-gary'\n",
    "data_key = 'aiml-blackbelt-2021/rawdata/PS_20174392719_1491204439457_log.csv'\n",
    "data_sample_key = 'aiml-blackbelt-2021/rawdata/PS_20174392719_1491204439457_log_small.csv'"
   ]
  },
  {
   "cell_type": "code",
   "execution_count": 35,
   "metadata": {},
   "outputs": [],
   "source": [
    "s3_client = boto3.client('s3')\n",
    "csv_obj = s3_client.get_object(Bucket=bucket, Key=data_key)\n",
    "body = csv_obj['Body']\n",
    "csv_string = body.read().decode('utf-8')\n",
    "df = pd.read_csv(StringIO(csv_string))\n",
    "\n",
    "csv_obj = s3_client.get_object(Bucket=bucket, Key=data_sample_key)\n",
    "body = csv_obj['Body']\n",
    "csv_string = body.read().decode('utf-8')\n",
    "df_sample = pd.read_csv(StringIO(csv_string))"
   ]
  },
  {
   "cell_type": "code",
   "execution_count": 36,
   "metadata": {},
   "outputs": [
    {
     "data": {
      "text/html": [
       "<div>\n",
       "<style scoped>\n",
       "    .dataframe tbody tr th:only-of-type {\n",
       "        vertical-align: middle;\n",
       "    }\n",
       "\n",
       "    .dataframe tbody tr th {\n",
       "        vertical-align: top;\n",
       "    }\n",
       "\n",
       "    .dataframe thead th {\n",
       "        text-align: right;\n",
       "    }\n",
       "</style>\n",
       "<table border=\"1\" class=\"dataframe\">\n",
       "  <thead>\n",
       "    <tr style=\"text-align: right;\">\n",
       "      <th></th>\n",
       "      <th>step</th>\n",
       "      <th>type</th>\n",
       "      <th>amount</th>\n",
       "      <th>nameOrig</th>\n",
       "      <th>oldbalanceOrg</th>\n",
       "      <th>newbalanceOrig</th>\n",
       "      <th>nameDest</th>\n",
       "      <th>oldbalanceDest</th>\n",
       "      <th>newbalanceDest</th>\n",
       "      <th>isFraud</th>\n",
       "      <th>isFlaggedFraud</th>\n",
       "    </tr>\n",
       "  </thead>\n",
       "  <tbody>\n",
       "    <tr>\n",
       "      <th>0</th>\n",
       "      <td>285</td>\n",
       "      <td>TRANSFER</td>\n",
       "      <td>3339025.78</td>\n",
       "      <td>C1026038263</td>\n",
       "      <td>0.00</td>\n",
       "      <td>0.00</td>\n",
       "      <td>C1232579010</td>\n",
       "      <td>6667523.60</td>\n",
       "      <td>10006549.38</td>\n",
       "      <td>0</td>\n",
       "      <td>0</td>\n",
       "    </tr>\n",
       "    <tr>\n",
       "      <th>1</th>\n",
       "      <td>274</td>\n",
       "      <td>CASH_OUT</td>\n",
       "      <td>312496.50</td>\n",
       "      <td>C1686642649</td>\n",
       "      <td>0.00</td>\n",
       "      <td>0.00</td>\n",
       "      <td>C233417034</td>\n",
       "      <td>840086.56</td>\n",
       "      <td>1152583.05</td>\n",
       "      <td>0</td>\n",
       "      <td>0</td>\n",
       "    </tr>\n",
       "    <tr>\n",
       "      <th>2</th>\n",
       "      <td>353</td>\n",
       "      <td>CASH_IN</td>\n",
       "      <td>97106.03</td>\n",
       "      <td>C36774230</td>\n",
       "      <td>1980240.72</td>\n",
       "      <td>2077346.74</td>\n",
       "      <td>C16389454</td>\n",
       "      <td>157997.97</td>\n",
       "      <td>60891.94</td>\n",
       "      <td>0</td>\n",
       "      <td>0</td>\n",
       "    </tr>\n",
       "    <tr>\n",
       "      <th>3</th>\n",
       "      <td>20</td>\n",
       "      <td>PAYMENT</td>\n",
       "      <td>20027.28</td>\n",
       "      <td>C1302277217</td>\n",
       "      <td>23063.50</td>\n",
       "      <td>3036.22</td>\n",
       "      <td>M861546597</td>\n",
       "      <td>0.00</td>\n",
       "      <td>0.00</td>\n",
       "      <td>0</td>\n",
       "      <td>0</td>\n",
       "    </tr>\n",
       "    <tr>\n",
       "      <th>4</th>\n",
       "      <td>322</td>\n",
       "      <td>PAYMENT</td>\n",
       "      <td>8367.50</td>\n",
       "      <td>C853508209</td>\n",
       "      <td>0.00</td>\n",
       "      <td>0.00</td>\n",
       "      <td>M1037844532</td>\n",
       "      <td>0.00</td>\n",
       "      <td>0.00</td>\n",
       "      <td>0</td>\n",
       "      <td>0</td>\n",
       "    </tr>\n",
       "    <tr>\n",
       "      <th>...</th>\n",
       "      <td>...</td>\n",
       "      <td>...</td>\n",
       "      <td>...</td>\n",
       "      <td>...</td>\n",
       "      <td>...</td>\n",
       "      <td>...</td>\n",
       "      <td>...</td>\n",
       "      <td>...</td>\n",
       "      <td>...</td>\n",
       "      <td>...</td>\n",
       "      <td>...</td>\n",
       "    </tr>\n",
       "    <tr>\n",
       "      <th>636257</th>\n",
       "      <td>300</td>\n",
       "      <td>CASH_OUT</td>\n",
       "      <td>73810.32</td>\n",
       "      <td>C832374530</td>\n",
       "      <td>2447.00</td>\n",
       "      <td>0.00</td>\n",
       "      <td>C1385336131</td>\n",
       "      <td>26856.93</td>\n",
       "      <td>100667.25</td>\n",
       "      <td>0</td>\n",
       "      <td>0</td>\n",
       "    </tr>\n",
       "    <tr>\n",
       "      <th>636258</th>\n",
       "      <td>331</td>\n",
       "      <td>CASH_IN</td>\n",
       "      <td>154164.85</td>\n",
       "      <td>C584806951</td>\n",
       "      <td>10597079.36</td>\n",
       "      <td>10751244.21</td>\n",
       "      <td>C1545515550</td>\n",
       "      <td>383048.47</td>\n",
       "      <td>228883.62</td>\n",
       "      <td>0</td>\n",
       "      <td>0</td>\n",
       "    </tr>\n",
       "    <tr>\n",
       "      <th>636259</th>\n",
       "      <td>309</td>\n",
       "      <td>TRANSFER</td>\n",
       "      <td>1475519.65</td>\n",
       "      <td>C1085117261</td>\n",
       "      <td>0.00</td>\n",
       "      <td>0.00</td>\n",
       "      <td>C1949312416</td>\n",
       "      <td>1476274.08</td>\n",
       "      <td>2951793.73</td>\n",
       "      <td>0</td>\n",
       "      <td>0</td>\n",
       "    </tr>\n",
       "    <tr>\n",
       "      <th>636260</th>\n",
       "      <td>158</td>\n",
       "      <td>CASH_OUT</td>\n",
       "      <td>410630.52</td>\n",
       "      <td>C1436073414</td>\n",
       "      <td>10324.00</td>\n",
       "      <td>0.00</td>\n",
       "      <td>C1710527462</td>\n",
       "      <td>821797.30</td>\n",
       "      <td>1232427.81</td>\n",
       "      <td>0</td>\n",
       "      <td>0</td>\n",
       "    </tr>\n",
       "    <tr>\n",
       "      <th>636261</th>\n",
       "      <td>16</td>\n",
       "      <td>CASH_IN</td>\n",
       "      <td>42552.81</td>\n",
       "      <td>C1103114047</td>\n",
       "      <td>9010665.62</td>\n",
       "      <td>9053218.43</td>\n",
       "      <td>C1892979630</td>\n",
       "      <td>240111.00</td>\n",
       "      <td>197558.19</td>\n",
       "      <td>0</td>\n",
       "      <td>0</td>\n",
       "    </tr>\n",
       "  </tbody>\n",
       "</table>\n",
       "<p>636262 rows × 11 columns</p>\n",
       "</div>"
      ],
      "text/plain": [
       "        step      type      amount     nameOrig  oldbalanceOrg  \\\n",
       "0        285  TRANSFER  3339025.78  C1026038263           0.00   \n",
       "1        274  CASH_OUT   312496.50  C1686642649           0.00   \n",
       "2        353   CASH_IN    97106.03    C36774230     1980240.72   \n",
       "3         20   PAYMENT    20027.28  C1302277217       23063.50   \n",
       "4        322   PAYMENT     8367.50   C853508209           0.00   \n",
       "...      ...       ...         ...          ...            ...   \n",
       "636257   300  CASH_OUT    73810.32   C832374530        2447.00   \n",
       "636258   331   CASH_IN   154164.85   C584806951    10597079.36   \n",
       "636259   309  TRANSFER  1475519.65  C1085117261           0.00   \n",
       "636260   158  CASH_OUT   410630.52  C1436073414       10324.00   \n",
       "636261    16   CASH_IN    42552.81  C1103114047     9010665.62   \n",
       "\n",
       "        newbalanceOrig     nameDest  oldbalanceDest  newbalanceDest  isFraud  \\\n",
       "0                 0.00  C1232579010      6667523.60     10006549.38        0   \n",
       "1                 0.00   C233417034       840086.56      1152583.05        0   \n",
       "2           2077346.74    C16389454       157997.97        60891.94        0   \n",
       "3              3036.22   M861546597            0.00            0.00        0   \n",
       "4                 0.00  M1037844532            0.00            0.00        0   \n",
       "...                ...          ...             ...             ...      ...   \n",
       "636257            0.00  C1385336131        26856.93       100667.25        0   \n",
       "636258     10751244.21  C1545515550       383048.47       228883.62        0   \n",
       "636259            0.00  C1949312416      1476274.08      2951793.73        0   \n",
       "636260            0.00  C1710527462       821797.30      1232427.81        0   \n",
       "636261      9053218.43  C1892979630       240111.00       197558.19        0   \n",
       "\n",
       "        isFlaggedFraud  \n",
       "0                    0  \n",
       "1                    0  \n",
       "2                    0  \n",
       "3                    0  \n",
       "4                    0  \n",
       "...                ...  \n",
       "636257               0  \n",
       "636258               0  \n",
       "636259               0  \n",
       "636260               0  \n",
       "636261               0  \n",
       "\n",
       "[636262 rows x 11 columns]"
      ]
     },
     "execution_count": 36,
     "metadata": {},
     "output_type": "execute_result"
    }
   ],
   "source": [
    "# s3loc = f's3://{bucket}/{data_key}'\n",
    "df_sample"
   ]
  },
  {
   "cell_type": "markdown",
   "metadata": {},
   "source": [
    "### Philosophy of this dataset\n",
    "\n",
    "A number of great explorations of the dataset have been performed, and since my focus is on creating an AutoML / MLOps exploration, I will give most of that data exploration short shrift so that I can start the data engineering.  We look at just a few items:\n",
    "\n",
    "- dealing with nameOrig and nameDest: if there are enough transactions that history might help us we might retain them; this turns out not to be the case, so we will drop both nameOrig and nameDest\n",
    "- The dataset is well behaved (no missing data, etc.) with the exception of matching the transaction amounts to the changes in balance\n",
    "- We will leave the data much as it is\n",
    "- isFlaggedFraud is not useful and so is dropped"
   ]
  },
  {
   "cell_type": "code",
   "execution_count": 48,
   "metadata": {},
   "outputs": [
    {
     "name": "stdout",
     "output_type": "stream",
     "text": [
      "The shape of the data is (636262, 11)\n",
      "the number of rows with NaN is 0\n"
     ]
    }
   ],
   "source": [
    "# simple data quality checks\n",
    "def quality_checks(df):\n",
    "    print(f'The shape of the data is {df_sample.shape}')\n",
    "    print(f'the number of rows with NaN is {sum(df.isna().any(axis=1))}')\n",
    "\n",
    "quality_checks(df_sample)"
   ]
  },
  {
   "cell_type": "markdown",
   "metadata": {},
   "source": [
    "### nameOrig\n",
    "\n",
    "Run through full dataset and subsample by nameOrig for exploratory work.\n",
    "\n",
    "Our first thesis is that individual users may be prone to fraudulent transactions or whether the transaction history of individuals\n",
    "will help us create a better model.  If that's the case, then we would need to randomize by user for test / train splitting.\n",
    "\n",
    "To this end, we start by exploring nameOrig."
   ]
  },
  {
   "cell_type": "code",
   "execution_count": 4,
   "metadata": {},
   "outputs": [],
   "source": [
    "gb = df.groupby('nameOrig')"
   ]
  },
  {
   "cell_type": "code",
   "execution_count": 5,
   "metadata": {},
   "outputs": [
    {
     "name": "stdout",
     "output_type": "stream",
     "text": [
      "Maximum number of entries for a single nameOrig: 2\n",
      "Conclusion: the maximum number of repeated transactions is small\n"
     ]
    }
   ],
   "source": [
    "print(f'Maximum number of entries for a single nameOrig: {max(gb.count()[\"step\"])}')\n",
    "print('Conclusion: the maximum number of repeated transactions is small')"
   ]
  },
  {
   "cell_type": "code",
   "execution_count": 16,
   "metadata": {},
   "outputs": [
    {
     "name": "stdout",
     "output_type": "stream",
     "text": [
      "None of the repeated 88 nameOrig's result in fraud so we conclude that names will not help us identify positive cases of fraud  \n"
     ]
    }
   ],
   "source": [
    "df1 = df.groupby('nameOrig').filter(lambda s: s.step.count()>=2)\n",
    "\n",
    "if sum(df1.isFraud)==0:\n",
    "    print(f'None of the repeated {len(df1.nameOrig.unique())} nameOrig\\'s result in fraud so we conclude that names will not help us identify positive cases of fraud  ')\n",
    "else:\n",
    "    print('check fraud in repeated nameOrig')"
   ]
  },
  {
   "cell_type": "code",
   "execution_count": 17,
   "metadata": {},
   "outputs": [
    {
     "name": "stdout",
     "output_type": "stream",
     "text": [
      "check fraud in repeated nameDest\n"
     ]
    }
   ],
   "source": [
    "df1 = df.groupby('nameDest').filter(lambda s: s.step.count()>=2)\n",
    "\n",
    "if sum(df1.isFraud)==0:\n",
    "    print(f'None of the repeated {len(df1.nameDest.unique())} nameOrig\\'s result in fraud so we conclude that names will not help us identify positive cases of fraud  ')\n",
    "else:\n",
    "    print('check fraud in repeated nameDest')"
   ]
  },
  {
   "cell_type": "code",
   "execution_count": 22,
   "metadata": {},
   "outputs": [
    {
     "data": {
      "text/plain": [
       "array(['C1232579010', 'C233417034', 'C16389454', ..., 'C1545515550',\n",
       "       'C1949312416', 'C1710527462'], dtype=object)"
      ]
     },
     "execution_count": 22,
     "metadata": {},
     "output_type": "execute_result"
    }
   ],
   "source": [
    "(df.nameDest.unique())"
   ]
  },
  {
   "cell_type": "markdown",
   "metadata": {},
   "source": [
    "### IsFlaggedFraud"
   ]
  },
  {
   "cell_type": "code",
   "execution_count": null,
   "metadata": {},
   "outputs": [],
   "source": [
    "# feature engineering by nameOrig:\n",
    "# count how many transactions per period"
   ]
  }
 ],
 "metadata": {
  "instance_type": "ml.g4dn.xlarge",
  "kernelspec": {
   "display_name": "Python 3 (Data Science)",
   "language": "python",
   "name": "python3__SAGEMAKER_INTERNAL__arn:aws:sagemaker:us-west-2:236514542706:image/datascience-1.0"
  },
  "language_info": {
   "codemirror_mode": {
    "name": "ipython",
    "version": 3
   },
   "file_extension": ".py",
   "mimetype": "text/x-python",
   "name": "python",
   "nbconvert_exporter": "python",
   "pygments_lexer": "ipython3",
   "version": "3.7.10"
  }
 },
 "nbformat": 4,
 "nbformat_minor": 4
}
