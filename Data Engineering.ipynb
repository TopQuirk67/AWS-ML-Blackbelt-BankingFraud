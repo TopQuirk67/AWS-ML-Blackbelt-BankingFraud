{
 "cells": [
  {
   "cell_type": "code",
   "execution_count": null,
   "metadata": {},
   "outputs": [],
   "source": [
    "import os\n",
    "import boto3\n",
    "import pandas as pd\n",
    "import numpy as np\n",
    "import sagemaker as sm\n",
    "from io import StringIO\n",
    "\n",
    "bucket = '1s-gary'\n",
    "data_key = 'aiml-blackbelt-2021/rawdata/PS_20174392719_1491204439457_log.csv'\n",
    "data_model_drift_key = 'aiml-blackbelt-2021/rawdata/PS_20174392719_1491204439457_log_model_drift.csv'\n",
    "\n",
    "s3_client = boto3.client('s3')\n",
    "csv_obj = s3_client.get_object(Bucket=bucket, Key=data_key)\n",
    "body = csv_obj['Body']\n",
    "csv_string = body.read().decode('utf-8')\n",
    "df = pd.read_csv(StringIO(csv_string))\n",
    "df['deltaOrig']=df['newbalanceOrig']-df['oldbalanceOrg']\n",
    "df['deltaDest']=df['newbalanceDest']-df['oldbalanceDest']\n",
    "# get lags; see analysis below\n",
    "df.loc[:,'amount_previous'] = df.amount.shift(1)\n",
    "df.loc[:,'type_previous'] = df.type.shift(1)\n",
    "df.drop(['nameOrig','nameDest','isFlaggedFraud'],axis=1,inplace=True)\n"
   ]
  }
 ],
 "metadata": {
  "kernelspec": {
   "display_name": "",
   "name": ""
  },
  "language_info": {
   "name": ""
  }
 },
 "nbformat": 4,
 "nbformat_minor": 4
}
